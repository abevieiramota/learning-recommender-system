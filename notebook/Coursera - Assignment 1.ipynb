{
 "cells": [
  {
   "cell_type": "code",
   "execution_count": 105,
   "metadata": {
    "collapsed": true
   },
   "outputs": [],
   "source": [
    "import pandas as pd"
   ]
  },
  {
   "cell_type": "code",
   "execution_count": 106,
   "metadata": {
    "collapsed": true
   },
   "outputs": [],
   "source": [
    "df = pd.read_csv('Coursera_A1Ratings.csv')"
   ]
  },
  {
   "cell_type": "code",
   "execution_count": 107,
   "metadata": {
    "collapsed": false
   },
   "outputs": [
    {
     "data": {
      "text/html": [
       "<div>\n",
       "<table border=\"1\" class=\"dataframe\">\n",
       "  <thead>\n",
       "    <tr style=\"text-align: right;\">\n",
       "      <th></th>\n",
       "      <th>User</th>\n",
       "      <th>260: Star Wars: Episode IV - A New Hope (1977)</th>\n",
       "      <th>1210: Star Wars: Episode VI - Return of the Jedi (1983)</th>\n",
       "      <th>356: Forrest Gump (1994)</th>\n",
       "      <th>318: Shawshank Redemption, The (1994)</th>\n",
       "      <th>593: Silence of the Lambs, The (1991)</th>\n",
       "      <th>3578: Gladiator (2000)</th>\n",
       "      <th>1: Toy Story (1995)</th>\n",
       "      <th>2028: Saving Private Ryan (1998)</th>\n",
       "      <th>296: Pulp Fiction (1994)</th>\n",
       "      <th>...</th>\n",
       "      <th>2396: Shakespeare in Love (1998)</th>\n",
       "      <th>2916: Total Recall (1990)</th>\n",
       "      <th>780: Independence Day (ID4) (1996)</th>\n",
       "      <th>541: Blade Runner (1982)</th>\n",
       "      <th>1265: Groundhog Day (1993)</th>\n",
       "      <th>2571: Matrix, The (1999)</th>\n",
       "      <th>527: Schindler's List (1993)</th>\n",
       "      <th>2762: Sixth Sense, The (1999)</th>\n",
       "      <th>1198: Raiders of the Lost Ark (1981)</th>\n",
       "      <th>34: Babe (1995)</th>\n",
       "    </tr>\n",
       "  </thead>\n",
       "  <tbody>\n",
       "    <tr>\n",
       "      <th>0</th>\n",
       "      <td>755</td>\n",
       "      <td>1.0</td>\n",
       "      <td>5.0</td>\n",
       "      <td>2.0</td>\n",
       "      <td>NaN</td>\n",
       "      <td>4.0</td>\n",
       "      <td>4.0</td>\n",
       "      <td>2.0</td>\n",
       "      <td>2.0</td>\n",
       "      <td>NaN</td>\n",
       "      <td>...</td>\n",
       "      <td>2.0</td>\n",
       "      <td>NaN</td>\n",
       "      <td>5.0</td>\n",
       "      <td>2.0</td>\n",
       "      <td>NaN</td>\n",
       "      <td>4.0</td>\n",
       "      <td>2.0</td>\n",
       "      <td>5.0</td>\n",
       "      <td>NaN</td>\n",
       "      <td>NaN</td>\n",
       "    </tr>\n",
       "    <tr>\n",
       "      <th>1</th>\n",
       "      <td>5277</td>\n",
       "      <td>5.0</td>\n",
       "      <td>3.0</td>\n",
       "      <td>NaN</td>\n",
       "      <td>2.0</td>\n",
       "      <td>4.0</td>\n",
       "      <td>2.0</td>\n",
       "      <td>1.0</td>\n",
       "      <td>NaN</td>\n",
       "      <td>NaN</td>\n",
       "      <td>...</td>\n",
       "      <td>3.0</td>\n",
       "      <td>2.0</td>\n",
       "      <td>2.0</td>\n",
       "      <td>NaN</td>\n",
       "      <td>2.0</td>\n",
       "      <td>NaN</td>\n",
       "      <td>5.0</td>\n",
       "      <td>1.0</td>\n",
       "      <td>3.0</td>\n",
       "      <td>NaN</td>\n",
       "    </tr>\n",
       "    <tr>\n",
       "      <th>2</th>\n",
       "      <td>1577</td>\n",
       "      <td>NaN</td>\n",
       "      <td>NaN</td>\n",
       "      <td>NaN</td>\n",
       "      <td>5.0</td>\n",
       "      <td>2.0</td>\n",
       "      <td>NaN</td>\n",
       "      <td>4.0</td>\n",
       "      <td>NaN</td>\n",
       "      <td>NaN</td>\n",
       "      <td>...</td>\n",
       "      <td>NaN</td>\n",
       "      <td>1.0</td>\n",
       "      <td>4.0</td>\n",
       "      <td>4.0</td>\n",
       "      <td>1.0</td>\n",
       "      <td>1.0</td>\n",
       "      <td>2.0</td>\n",
       "      <td>3.0</td>\n",
       "      <td>1.0</td>\n",
       "      <td>3.0</td>\n",
       "    </tr>\n",
       "    <tr>\n",
       "      <th>3</th>\n",
       "      <td>4388</td>\n",
       "      <td>NaN</td>\n",
       "      <td>3.0</td>\n",
       "      <td>NaN</td>\n",
       "      <td>NaN</td>\n",
       "      <td>NaN</td>\n",
       "      <td>1.0</td>\n",
       "      <td>2.0</td>\n",
       "      <td>3.0</td>\n",
       "      <td>4.0</td>\n",
       "      <td>...</td>\n",
       "      <td>NaN</td>\n",
       "      <td>4.0</td>\n",
       "      <td>1.0</td>\n",
       "      <td>3.0</td>\n",
       "      <td>5.0</td>\n",
       "      <td>NaN</td>\n",
       "      <td>5.0</td>\n",
       "      <td>1.0</td>\n",
       "      <td>1.0</td>\n",
       "      <td>2.0</td>\n",
       "    </tr>\n",
       "    <tr>\n",
       "      <th>4</th>\n",
       "      <td>1202</td>\n",
       "      <td>4.0</td>\n",
       "      <td>3.0</td>\n",
       "      <td>4.0</td>\n",
       "      <td>1.0</td>\n",
       "      <td>4.0</td>\n",
       "      <td>1.0</td>\n",
       "      <td>NaN</td>\n",
       "      <td>4.0</td>\n",
       "      <td>NaN</td>\n",
       "      <td>...</td>\n",
       "      <td>5.0</td>\n",
       "      <td>1.0</td>\n",
       "      <td>NaN</td>\n",
       "      <td>4.0</td>\n",
       "      <td>NaN</td>\n",
       "      <td>3.0</td>\n",
       "      <td>5.0</td>\n",
       "      <td>5.0</td>\n",
       "      <td>NaN</td>\n",
       "      <td>NaN</td>\n",
       "    </tr>\n",
       "  </tbody>\n",
       "</table>\n",
       "<p>5 rows × 21 columns</p>\n",
       "</div>"
      ],
      "text/plain": [
       "   User  260: Star Wars: Episode IV - A New Hope (1977)  \\\n",
       "0   755                                             1.0   \n",
       "1  5277                                             5.0   \n",
       "2  1577                                             NaN   \n",
       "3  4388                                             NaN   \n",
       "4  1202                                             4.0   \n",
       "\n",
       "   1210: Star Wars: Episode VI - Return of the Jedi (1983)  \\\n",
       "0                                                5.0         \n",
       "1                                                3.0         \n",
       "2                                                NaN         \n",
       "3                                                3.0         \n",
       "4                                                3.0         \n",
       "\n",
       "   356: Forrest Gump (1994)  318: Shawshank Redemption, The (1994)  \\\n",
       "0                       2.0                                    NaN   \n",
       "1                       NaN                                    2.0   \n",
       "2                       NaN                                    5.0   \n",
       "3                       NaN                                    NaN   \n",
       "4                       4.0                                    1.0   \n",
       "\n",
       "   593: Silence of the Lambs, The (1991)  3578: Gladiator (2000)  \\\n",
       "0                                    4.0                     4.0   \n",
       "1                                    4.0                     2.0   \n",
       "2                                    2.0                     NaN   \n",
       "3                                    NaN                     1.0   \n",
       "4                                    4.0                     1.0   \n",
       "\n",
       "   1: Toy Story (1995)  2028: Saving Private Ryan (1998)  \\\n",
       "0                  2.0                               2.0   \n",
       "1                  1.0                               NaN   \n",
       "2                  4.0                               NaN   \n",
       "3                  2.0                               3.0   \n",
       "4                  NaN                               4.0   \n",
       "\n",
       "   296: Pulp Fiction (1994)       ...         \\\n",
       "0                       NaN       ...          \n",
       "1                       NaN       ...          \n",
       "2                       NaN       ...          \n",
       "3                       4.0       ...          \n",
       "4                       NaN       ...          \n",
       "\n",
       "   2396: Shakespeare in Love (1998)  2916: Total Recall (1990)  \\\n",
       "0                               2.0                        NaN   \n",
       "1                               3.0                        2.0   \n",
       "2                               NaN                        1.0   \n",
       "3                               NaN                        4.0   \n",
       "4                               5.0                        1.0   \n",
       "\n",
       "   780: Independence Day (ID4) (1996)  541: Blade Runner (1982)  \\\n",
       "0                                 5.0                       2.0   \n",
       "1                                 2.0                       NaN   \n",
       "2                                 4.0                       4.0   \n",
       "3                                 1.0                       3.0   \n",
       "4                                 NaN                       4.0   \n",
       "\n",
       "   1265: Groundhog Day (1993)  2571: Matrix, The (1999)  \\\n",
       "0                         NaN                       4.0   \n",
       "1                         2.0                       NaN   \n",
       "2                         1.0                       1.0   \n",
       "3                         5.0                       NaN   \n",
       "4                         NaN                       3.0   \n",
       "\n",
       "   527: Schindler's List (1993)  2762: Sixth Sense, The (1999)  \\\n",
       "0                           2.0                            5.0   \n",
       "1                           5.0                            1.0   \n",
       "2                           2.0                            3.0   \n",
       "3                           5.0                            1.0   \n",
       "4                           5.0                            5.0   \n",
       "\n",
       "   1198: Raiders of the Lost Ark (1981)  34: Babe (1995)  \n",
       "0                                   NaN              NaN  \n",
       "1                                   3.0              NaN  \n",
       "2                                   1.0              3.0  \n",
       "3                                   1.0              2.0  \n",
       "4                                   NaN              NaN  \n",
       "\n",
       "[5 rows x 21 columns]"
      ]
     },
     "execution_count": 107,
     "metadata": {},
     "output_type": "execute_result"
    }
   ],
   "source": [
    "df.head()"
   ]
  },
  {
   "cell_type": "markdown",
   "metadata": {},
   "source": [
    "# Top 5"
   ]
  },
  {
   "cell_type": "markdown",
   "metadata": {},
   "source": [
    "## Mean rating"
   ]
  },
  {
   "cell_type": "code",
   "execution_count": 108,
   "metadata": {
    "collapsed": false
   },
   "outputs": [
    {
     "data": {
      "text/plain": [
       "318: Shawshank Redemption, The (1994)             3.600000\n",
       "260: Star Wars: Episode IV - A New Hope (1977)    3.266667\n",
       "541: Blade Runner (1982)                          3.222222\n",
       "1265: Groundhog Day (1993)                        3.166667\n",
       "593: Silence of the Lambs, The (1991)             3.062500\n",
       "dtype: float64"
      ]
     },
     "execution_count": 108,
     "metadata": {},
     "output_type": "execute_result"
    }
   ],
   "source": [
    "df.drop('User', axis=1).mean().sort_values(ascending=False)[:5]"
   ]
  },
  {
   "cell_type": "markdown",
   "metadata": {},
   "source": [
    "## % rating >= 4"
   ]
  },
  {
   "cell_type": "code",
   "execution_count": 109,
   "metadata": {
    "collapsed": false
   },
   "outputs": [
    {
     "data": {
      "text/plain": [
       "318: Shawshank Redemption, The (1994)             0.700000\n",
       "260: Star Wars: Episode IV - A New Hope (1977)    0.533333\n",
       "3578: Gladiator (2000)                            0.500000\n",
       "541: Blade Runner (1982)                          0.444444\n",
       "593: Silence of the Lambs, The (1991)             0.437500\n",
       "dtype: float64"
      ]
     },
     "execution_count": 109,
     "metadata": {},
     "output_type": "execute_result"
    }
   ],
   "source": [
    "(df.drop('User', axis=1).apply(lambda x: x.value_counts(), axis=0).fillna(0) /\\\n",
    "df.drop('User', axis=1).count()).loc[[4.0, 5.0]].sum().sort_values(ascending=False)[:5]"
   ]
  },
  {
   "cell_type": "markdown",
   "metadata": {},
   "source": [
    "## rating count"
   ]
  },
  {
   "cell_type": "code",
   "execution_count": 110,
   "metadata": {
    "collapsed": false
   },
   "outputs": [
    {
     "data": {
      "text/plain": [
       "1: Toy Story (1995)                                        17\n",
       "593: Silence of the Lambs, The (1991)                      16\n",
       "260: Star Wars: Episode IV - A New Hope (1977)             15\n",
       "1210: Star Wars: Episode VI - Return of the Jedi (1983)    14\n",
       "780: Independence Day (ID4) (1996)                         13\n",
       "dtype: int64"
      ]
     },
     "execution_count": 110,
     "metadata": {},
     "output_type": "execute_result"
    }
   ],
   "source": [
    "df.drop('User', axis=1).count().sort_values(ascending=False)[:5]"
   ]
  },
  {
   "cell_type": "markdown",
   "metadata": {},
   "source": [
    "## top 5 star wars"
   ]
  },
  {
   "cell_type": "code",
   "execution_count": 111,
   "metadata": {
    "collapsed": false
   },
   "outputs": [],
   "source": [
    "star_wars_is_rated = df['260: Star Wars: Episode IV - A New Hope (1977)'].map(lambda x: ~pd.isnull(x))\n",
    "\n",
    "count_rated_with_star_wars = (df.drop(['User', '260: Star Wars: Episode IV - A New Hope (1977)'], axis=1)\\\n",
    ".apply(lambda x: ~pd.isnull(x) & star_wars_rated)).sum()"
   ]
  },
  {
   "cell_type": "code",
   "execution_count": 112,
   "metadata": {
    "collapsed": false
   },
   "outputs": [
    {
     "data": {
      "text/plain": [
       "1: Toy Story (1995)                                        0.933333\n",
       "1210: Star Wars: Episode VI - Return of the Jedi (1983)    0.866667\n",
       "593: Silence of the Lambs, The (1991)                      0.800000\n",
       "780: Independence Day (ID4) (1996)                         0.733333\n",
       "2916: Total Recall (1990)                                  0.666667\n",
       "dtype: float64"
      ]
     },
     "execution_count": 112,
     "metadata": {},
     "output_type": "execute_result"
    }
   ],
   "source": [
    "(count_rated_with_star_wars / df['260: Star Wars: Episode IV - A New Hope (1977)'].count())\\\n",
    ".sort_values(ascending=False)[:5]"
   ]
  }
 ],
 "metadata": {
  "kernelspec": {
   "display_name": "Python 3",
   "language": "python",
   "name": "python3"
  },
  "language_info": {
   "codemirror_mode": {
    "name": "ipython",
    "version": 3
   },
   "file_extension": ".py",
   "mimetype": "text/x-python",
   "name": "python",
   "nbconvert_exporter": "python",
   "pygments_lexer": "ipython3",
   "version": "3.5.1"
  }
 },
 "nbformat": 4,
 "nbformat_minor": 0
}

{
 "cells": [
  {
   "cell_type": "code",
   "execution_count": 1,
   "metadata": {
    "collapsed": true
   },
   "outputs": [],
   "source": [
    "import pandas as pd\n",
    "from sklearn.neighbors import NearestNeighbors\n",
    "from sklearn.preprocessing import Imputer"
   ]
  },
  {
   "cell_type": "code",
   "execution_count": 2,
   "metadata": {
    "collapsed": false
   },
   "outputs": [],
   "source": [
    "user_movie = pd.DataFrame([\\\n",
    "                             ('Abelardo', 'Life of Pi', 9),\n",
    "                             ('Abelardo', 'Donnie Darko', 9),\n",
    "                             ('Abelardo', 'Titanic', 4),\n",
    "                             ('Abelardo', 'Brasileirinhas', 10),\n",
    "                             ('Cris', 'Chuck', 10),\n",
    "                             ('Cris', 'Apocalypse now', 6),\n",
    "                             ('Cris', 'Bastardos Inglórios', 7),\n",
    "                             ('Obama', 'Bastardos Inglórios', 8),\n",
    "                             ('Obama', 'Titanic', 10),\n",
    "                             ('Obama', 'Brasileirinhas', 6),\n",
    "                             ('ElTaradão', 'Brasileirinhas', 10),\n",
    "                             ('ElTaradão', 'Francesinhas', 10),\n",
    "                             ('ElTaradão', 'Espanholinhas', 10),\n",
    "                             ('ElTaradão', 'Apocalypse now', 1),\n",
    "                             ('ElSerião', 'Francesinhas', 0),\n",
    "                             ('ElSerião', 'Espanholinhas', 0),\n",
    "                             ('ElSerião', 'Apocalypse now', 10),\n",
    "                             ('ElSerião', 'Titanic', 8),\n",
    "                             ('ElSerião', 'Chuck', 2),\n",
    "                             ('ElSerião', 'DonnieDarko', 8),\n",
    "                             ('ElSerião', 'Life Of Pi', 9)\n",
    "                             ], columns=['user', 'movie', 'rating'])"
   ]
  },
  {
   "cell_type": "code",
   "execution_count": 3,
   "metadata": {
    "collapsed": false
   },
   "outputs": [],
   "source": [
    "u_matrix = pd.pivot_table(user_movie, values='rating', columns='movie', index='user', aggfunc='mean')"
   ]
  },
  {
   "cell_type": "code",
   "execution_count": 4,
   "metadata": {
    "collapsed": false
   },
   "outputs": [
    {
     "data": {
      "text/html": [
       "<div>\n",
       "<table border=\"1\" class=\"dataframe\">\n",
       "  <thead>\n",
       "    <tr style=\"text-align: right;\">\n",
       "      <th>movie</th>\n",
       "      <th>Apocalypse now</th>\n",
       "      <th>Bastardos Inglórios</th>\n",
       "      <th>Brasileirinhas</th>\n",
       "      <th>Chuck</th>\n",
       "      <th>Donnie Darko</th>\n",
       "      <th>DonnieDarko</th>\n",
       "      <th>Espanholinhas</th>\n",
       "      <th>Francesinhas</th>\n",
       "      <th>Life Of Pi</th>\n",
       "      <th>Life of Pi</th>\n",
       "      <th>Titanic</th>\n",
       "    </tr>\n",
       "    <tr>\n",
       "      <th>user</th>\n",
       "      <th></th>\n",
       "      <th></th>\n",
       "      <th></th>\n",
       "      <th></th>\n",
       "      <th></th>\n",
       "      <th></th>\n",
       "      <th></th>\n",
       "      <th></th>\n",
       "      <th></th>\n",
       "      <th></th>\n",
       "      <th></th>\n",
       "    </tr>\n",
       "  </thead>\n",
       "  <tbody>\n",
       "    <tr>\n",
       "      <th>Abelardo</th>\n",
       "      <td>NaN</td>\n",
       "      <td>NaN</td>\n",
       "      <td>10.0</td>\n",
       "      <td>NaN</td>\n",
       "      <td>9.0</td>\n",
       "      <td>NaN</td>\n",
       "      <td>NaN</td>\n",
       "      <td>NaN</td>\n",
       "      <td>NaN</td>\n",
       "      <td>9.0</td>\n",
       "      <td>4.0</td>\n",
       "    </tr>\n",
       "    <tr>\n",
       "      <th>Cris</th>\n",
       "      <td>6.0</td>\n",
       "      <td>7.0</td>\n",
       "      <td>NaN</td>\n",
       "      <td>10.0</td>\n",
       "      <td>NaN</td>\n",
       "      <td>NaN</td>\n",
       "      <td>NaN</td>\n",
       "      <td>NaN</td>\n",
       "      <td>NaN</td>\n",
       "      <td>NaN</td>\n",
       "      <td>NaN</td>\n",
       "    </tr>\n",
       "    <tr>\n",
       "      <th>ElSerião</th>\n",
       "      <td>10.0</td>\n",
       "      <td>NaN</td>\n",
       "      <td>NaN</td>\n",
       "      <td>2.0</td>\n",
       "      <td>NaN</td>\n",
       "      <td>8.0</td>\n",
       "      <td>0.0</td>\n",
       "      <td>0.0</td>\n",
       "      <td>9.0</td>\n",
       "      <td>NaN</td>\n",
       "      <td>8.0</td>\n",
       "    </tr>\n",
       "    <tr>\n",
       "      <th>ElTaradão</th>\n",
       "      <td>1.0</td>\n",
       "      <td>NaN</td>\n",
       "      <td>10.0</td>\n",
       "      <td>NaN</td>\n",
       "      <td>NaN</td>\n",
       "      <td>NaN</td>\n",
       "      <td>10.0</td>\n",
       "      <td>10.0</td>\n",
       "      <td>NaN</td>\n",
       "      <td>NaN</td>\n",
       "      <td>NaN</td>\n",
       "    </tr>\n",
       "    <tr>\n",
       "      <th>Obama</th>\n",
       "      <td>NaN</td>\n",
       "      <td>8.0</td>\n",
       "      <td>6.0</td>\n",
       "      <td>NaN</td>\n",
       "      <td>NaN</td>\n",
       "      <td>NaN</td>\n",
       "      <td>NaN</td>\n",
       "      <td>NaN</td>\n",
       "      <td>NaN</td>\n",
       "      <td>NaN</td>\n",
       "      <td>10.0</td>\n",
       "    </tr>\n",
       "  </tbody>\n",
       "</table>\n",
       "</div>"
      ],
      "text/plain": [
       "movie      Apocalypse now  Bastardos Inglórios  Brasileirinhas  Chuck  \\\n",
       "user                                                                    \n",
       "Abelardo              NaN                  NaN            10.0    NaN   \n",
       "Cris                  6.0                  7.0             NaN   10.0   \n",
       "ElSerião             10.0                  NaN             NaN    2.0   \n",
       "ElTaradão             1.0                  NaN            10.0    NaN   \n",
       "Obama                 NaN                  8.0             6.0    NaN   \n",
       "\n",
       "movie      Donnie Darko  DonnieDarko  Espanholinhas  Francesinhas  Life Of Pi  \\\n",
       "user                                                                            \n",
       "Abelardo            9.0          NaN            NaN           NaN         NaN   \n",
       "Cris                NaN          NaN            NaN           NaN         NaN   \n",
       "ElSerião            NaN          8.0            0.0           0.0         9.0   \n",
       "ElTaradão           NaN          NaN           10.0          10.0         NaN   \n",
       "Obama               NaN          NaN            NaN           NaN         NaN   \n",
       "\n",
       "movie      Life of Pi  Titanic  \n",
       "user                            \n",
       "Abelardo          9.0      4.0  \n",
       "Cris              NaN      NaN  \n",
       "ElSerião          NaN      8.0  \n",
       "ElTaradão         NaN      NaN  \n",
       "Obama             NaN     10.0  "
      ]
     },
     "execution_count": 4,
     "metadata": {},
     "output_type": "execute_result"
    }
   ],
   "source": [
    "u_matrix"
   ]
  },
  {
   "cell_type": "code",
   "execution_count": 5,
   "metadata": {
    "collapsed": true
   },
   "outputs": [],
   "source": [
    "# média de rating por filme\n",
    "imean = Imputer()\n",
    "\n",
    "um = imean.fit_transform(u_matrix.values)"
   ]
  },
  {
   "cell_type": "code",
   "execution_count": 6,
   "metadata": {
    "collapsed": false
   },
   "outputs": [],
   "source": [
    "nn = NearestNeighbors().fit(um)"
   ]
  },
  {
   "cell_type": "code",
   "execution_count": 7,
   "metadata": {
    "collapsed": false
   },
   "outputs": [],
   "source": [
    "distance, ineighbors = nn.kneighbors(um[u_matrix.index == 'ElTaradão'], n_neighbors=3)"
   ]
  },
  {
   "cell_type": "code",
   "execution_count": 8,
   "metadata": {
    "collapsed": false
   },
   "outputs": [
    {
     "data": {
      "text/plain": [
       "array([[ 0.        ,  9.10433352,  9.64509086]])"
      ]
     },
     "execution_count": 8,
     "metadata": {},
     "output_type": "execute_result"
    }
   ],
   "source": [
    "distance"
   ]
  },
  {
   "cell_type": "code",
   "execution_count": 9,
   "metadata": {
    "collapsed": false
   },
   "outputs": [
    {
     "data": {
      "text/html": [
       "<div>\n",
       "<table border=\"1\" class=\"dataframe\">\n",
       "  <thead>\n",
       "    <tr style=\"text-align: right;\">\n",
       "      <th>movie</th>\n",
       "      <th>Apocalypse now</th>\n",
       "      <th>Bastardos Inglórios</th>\n",
       "      <th>Brasileirinhas</th>\n",
       "      <th>Chuck</th>\n",
       "      <th>Donnie Darko</th>\n",
       "      <th>DonnieDarko</th>\n",
       "      <th>Espanholinhas</th>\n",
       "      <th>Francesinhas</th>\n",
       "      <th>Life Of Pi</th>\n",
       "      <th>Life of Pi</th>\n",
       "      <th>Titanic</th>\n",
       "    </tr>\n",
       "    <tr>\n",
       "      <th>user</th>\n",
       "      <th></th>\n",
       "      <th></th>\n",
       "      <th></th>\n",
       "      <th></th>\n",
       "      <th></th>\n",
       "      <th></th>\n",
       "      <th></th>\n",
       "      <th></th>\n",
       "      <th></th>\n",
       "      <th></th>\n",
       "      <th></th>\n",
       "    </tr>\n",
       "  </thead>\n",
       "  <tbody>\n",
       "    <tr>\n",
       "      <th>ElTaradão</th>\n",
       "      <td>1.0</td>\n",
       "      <td>NaN</td>\n",
       "      <td>10.0</td>\n",
       "      <td>NaN</td>\n",
       "      <td>NaN</td>\n",
       "      <td>NaN</td>\n",
       "      <td>10.0</td>\n",
       "      <td>10.0</td>\n",
       "      <td>NaN</td>\n",
       "      <td>NaN</td>\n",
       "      <td>NaN</td>\n",
       "    </tr>\n",
       "    <tr>\n",
       "      <th>Abelardo</th>\n",
       "      <td>NaN</td>\n",
       "      <td>NaN</td>\n",
       "      <td>10.0</td>\n",
       "      <td>NaN</td>\n",
       "      <td>9.0</td>\n",
       "      <td>NaN</td>\n",
       "      <td>NaN</td>\n",
       "      <td>NaN</td>\n",
       "      <td>NaN</td>\n",
       "      <td>9.0</td>\n",
       "      <td>4.0</td>\n",
       "    </tr>\n",
       "    <tr>\n",
       "      <th>Cris</th>\n",
       "      <td>6.0</td>\n",
       "      <td>7.0</td>\n",
       "      <td>NaN</td>\n",
       "      <td>10.0</td>\n",
       "      <td>NaN</td>\n",
       "      <td>NaN</td>\n",
       "      <td>NaN</td>\n",
       "      <td>NaN</td>\n",
       "      <td>NaN</td>\n",
       "      <td>NaN</td>\n",
       "      <td>NaN</td>\n",
       "    </tr>\n",
       "  </tbody>\n",
       "</table>\n",
       "</div>"
      ],
      "text/plain": [
       "movie      Apocalypse now  Bastardos Inglórios  Brasileirinhas  Chuck  \\\n",
       "user                                                                    \n",
       "ElTaradão             1.0                  NaN            10.0    NaN   \n",
       "Abelardo              NaN                  NaN            10.0    NaN   \n",
       "Cris                  6.0                  7.0             NaN   10.0   \n",
       "\n",
       "movie      Donnie Darko  DonnieDarko  Espanholinhas  Francesinhas  Life Of Pi  \\\n",
       "user                                                                            \n",
       "ElTaradão           NaN          NaN           10.0          10.0         NaN   \n",
       "Abelardo            9.0          NaN            NaN           NaN         NaN   \n",
       "Cris                NaN          NaN            NaN           NaN         NaN   \n",
       "\n",
       "movie      Life of Pi  Titanic  \n",
       "user                            \n",
       "ElTaradão         NaN      NaN  \n",
       "Abelardo          9.0      4.0  \n",
       "Cris              NaN      NaN  "
      ]
     },
     "execution_count": 9,
     "metadata": {},
     "output_type": "execute_result"
    }
   ],
   "source": [
    "u_matrix.iloc[ineighbors[0]]"
   ]
  }
 ],
 "metadata": {
  "kernelspec": {
   "display_name": "Python 3",
   "language": "python",
   "name": "python3"
  },
  "language_info": {
   "codemirror_mode": {
    "name": "ipython",
    "version": 3
   },
   "file_extension": ".py",
   "mimetype": "text/x-python",
   "name": "python",
   "nbconvert_exporter": "python",
   "pygments_lexer": "ipython3",
   "version": "3.5.1"
  }
 },
 "nbformat": 4,
 "nbformat_minor": 0
}

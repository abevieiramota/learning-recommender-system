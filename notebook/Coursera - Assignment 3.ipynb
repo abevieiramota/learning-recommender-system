{
 "cells": [
  {
   "cell_type": "code",
   "execution_count": 122,
   "metadata": {
    "collapsed": true
   },
   "outputs": [],
   "source": [
    "import pandas as pd\n",
    "import numpy as np"
   ]
  },
  {
   "cell_type": "code",
   "execution_count": 2,
   "metadata": {
    "collapsed": true
   },
   "outputs": [],
   "source": [
    "df = pd.read_excel('Assignment 3.xls')"
   ]
  },
  {
   "cell_type": "code",
   "execution_count": 5,
   "metadata": {
    "collapsed": false
   },
   "outputs": [
    {
     "data": {
      "text/plain": [
       "(100, 25)"
      ]
     },
     "execution_count": 5,
     "metadata": {},
     "output_type": "execute_result"
    }
   ],
   "source": [
    "df.shape"
   ]
  },
  {
   "cell_type": "code",
   "execution_count": 6,
   "metadata": {
    "collapsed": false
   },
   "outputs": [
    {
     "data": {
      "text/html": [
       "<div>\n",
       "<table border=\"1\" class=\"dataframe\">\n",
       "  <thead>\n",
       "    <tr style=\"text-align: right;\">\n",
       "      <th></th>\n",
       "      <th>1648</th>\n",
       "      <th>5136</th>\n",
       "      <th>918</th>\n",
       "      <th>2824</th>\n",
       "      <th>3867</th>\n",
       "      <th>860</th>\n",
       "      <th>3712</th>\n",
       "      <th>2968</th>\n",
       "      <th>3525</th>\n",
       "      <th>4323</th>\n",
       "      <th>...</th>\n",
       "      <th>3556</th>\n",
       "      <th>5261</th>\n",
       "      <th>2492</th>\n",
       "      <th>5062</th>\n",
       "      <th>2486</th>\n",
       "      <th>4942</th>\n",
       "      <th>2267</th>\n",
       "      <th>4809</th>\n",
       "      <th>3853</th>\n",
       "      <th>2288</th>\n",
       "    </tr>\n",
       "  </thead>\n",
       "  <tbody>\n",
       "    <tr>\n",
       "      <th>11: Star Wars: Episode IV - A New Hope (1977)</th>\n",
       "      <td>NaN</td>\n",
       "      <td>4.5</td>\n",
       "      <td>5.0</td>\n",
       "      <td>4.5</td>\n",
       "      <td>4.0</td>\n",
       "      <td>4.0</td>\n",
       "      <td>NaN</td>\n",
       "      <td>5.0</td>\n",
       "      <td>4.0</td>\n",
       "      <td>5.0</td>\n",
       "      <td>...</td>\n",
       "      <td>4.0</td>\n",
       "      <td>NaN</td>\n",
       "      <td>4.5</td>\n",
       "      <td>4.0</td>\n",
       "      <td>3.5</td>\n",
       "      <td>NaN</td>\n",
       "      <td>NaN</td>\n",
       "      <td>NaN</td>\n",
       "      <td>NaN</td>\n",
       "      <td>NaN</td>\n",
       "    </tr>\n",
       "    <tr>\n",
       "      <th>12: Finding Nemo (2003)</th>\n",
       "      <td>NaN</td>\n",
       "      <td>5.0</td>\n",
       "      <td>5.0</td>\n",
       "      <td>NaN</td>\n",
       "      <td>4.0</td>\n",
       "      <td>4.0</td>\n",
       "      <td>4.5</td>\n",
       "      <td>4.5</td>\n",
       "      <td>4.0</td>\n",
       "      <td>5.0</td>\n",
       "      <td>...</td>\n",
       "      <td>4.0</td>\n",
       "      <td>NaN</td>\n",
       "      <td>3.5</td>\n",
       "      <td>4.0</td>\n",
       "      <td>2.0</td>\n",
       "      <td>3.5</td>\n",
       "      <td>NaN</td>\n",
       "      <td>NaN</td>\n",
       "      <td>NaN</td>\n",
       "      <td>3.5</td>\n",
       "    </tr>\n",
       "  </tbody>\n",
       "</table>\n",
       "<p>2 rows × 25 columns</p>\n",
       "</div>"
      ],
      "text/plain": [
       "                                               1648  5136  918   2824  3867  \\\n",
       "11: Star Wars: Episode IV - A New Hope (1977)   NaN   4.5   5.0   4.5   4.0   \n",
       "12: Finding Nemo (2003)                         NaN   5.0   5.0   NaN   4.0   \n",
       "\n",
       "                                               860   3712  2968  3525  4323  \\\n",
       "11: Star Wars: Episode IV - A New Hope (1977)   4.0   NaN   5.0   4.0   5.0   \n",
       "12: Finding Nemo (2003)                         4.0   4.5   4.5   4.0   5.0   \n",
       "\n",
       "                                               ...   3556  5261  2492  5062  \\\n",
       "11: Star Wars: Episode IV - A New Hope (1977)  ...    4.0   NaN   4.5   4.0   \n",
       "12: Finding Nemo (2003)                        ...    4.0   NaN   3.5   4.0   \n",
       "\n",
       "                                               2486  4942  2267  4809  3853  \\\n",
       "11: Star Wars: Episode IV - A New Hope (1977)   3.5   NaN   NaN   NaN   NaN   \n",
       "12: Finding Nemo (2003)                         2.0   3.5   NaN   NaN   NaN   \n",
       "\n",
       "                                               2288  \n",
       "11: Star Wars: Episode IV - A New Hope (1977)   NaN  \n",
       "12: Finding Nemo (2003)                         3.5  \n",
       "\n",
       "[2 rows x 25 columns]"
      ]
     },
     "execution_count": 6,
     "metadata": {},
     "output_type": "execute_result"
    }
   ],
   "source": [
    "df.head(2)"
   ]
  },
  {
   "cell_type": "markdown",
   "metadata": {},
   "source": [
    "# Part 1 - Without Normalization"
   ]
  },
  {
   "cell_type": "markdown",
   "metadata": {},
   "source": [
    "## Complete the user-by-user correlations matrix."
   ]
  },
  {
   "cell_type": "code",
   "execution_count": 10,
   "metadata": {
    "collapsed": false
   },
   "outputs": [],
   "source": [
    "corr_df = df.corr()"
   ]
  },
  {
   "cell_type": "markdown",
   "metadata": {},
   "source": [
    "To check your math, note that the correlation between users 1648 and 5136 is 0.40298, and the correlation between users 918 and 2824 is -0.31706."
   ]
  },
  {
   "cell_type": "code",
   "execution_count": 11,
   "metadata": {
    "collapsed": false
   },
   "outputs": [
    {
     "data": {
      "text/plain": [
       "0.40298018845699629"
      ]
     },
     "execution_count": 11,
     "metadata": {},
     "output_type": "execute_result"
    }
   ],
   "source": [
    "corr_df.loc[1648, 5136]"
   ]
  },
  {
   "cell_type": "code",
   "execution_count": 12,
   "metadata": {
    "collapsed": false
   },
   "outputs": [
    {
     "data": {
      "text/plain": [
       "-0.31706324373711381"
      ]
     },
     "execution_count": 12,
     "metadata": {},
     "output_type": "execute_result"
    }
   ],
   "source": [
    "corr_df.loc[918, 2824]"
   ]
  },
  {
   "cell_type": "markdown",
   "metadata": {},
   "source": [
    "## Identify the top 5 neighbors (the users with the 5 largest, positive correlations) for users 3867 and 89."
   ]
  },
  {
   "cell_type": "code",
   "execution_count": 44,
   "metadata": {
    "collapsed": true
   },
   "outputs": [],
   "source": [
    "def top_n_corr(user, n, exclude_user=True):\n",
    "    \n",
    "    user_corr = corr_df.loc[user]\n",
    "    \n",
    "    if exclude_user:\n",
    "        \n",
    "        return user_corr.nlargest(n+1).drop(user)\n",
    "    else:\n",
    "        \n",
    "        return user_corr.nlargest(n)"
   ]
  },
  {
   "cell_type": "code",
   "execution_count": 45,
   "metadata": {
    "collapsed": false
   },
   "outputs": [
    {
     "data": {
      "text/plain": [
       "2492    0.476683\n",
       "3853    0.464110\n",
       "2486    0.438992\n",
       "3712    0.400275\n",
       "2288    0.379856\n",
       "Name: 3867, dtype: float64"
      ]
     },
     "execution_count": 45,
     "metadata": {},
     "output_type": "execute_result"
    }
   ],
   "source": [
    "top_n_corr(3867, 5)"
   ]
  },
  {
   "cell_type": "code",
   "execution_count": 46,
   "metadata": {
    "collapsed": false
   },
   "outputs": [
    {
     "data": {
      "text/plain": [
       "4809    0.668516\n",
       "5136    0.562449\n",
       "860     0.539066\n",
       "5062    0.525990\n",
       "3525    0.475495\n",
       "Name: 89, dtype: float64"
      ]
     },
     "execution_count": 46,
     "metadata": {},
     "output_type": "execute_result"
    }
   ],
   "source": [
    "top_n_corr(89, 5)"
   ]
  },
  {
   "cell_type": "markdown",
   "metadata": {},
   "source": [
    "For example, if the target user were #3712, the closest neighbors are 2824 (corr: 0.46291), 3867 (corr: 0.400275), 5062 (corr: 0.247693), 442 (corr: 0.22713), and 3853 (corr: 0.19366)"
   ]
  },
  {
   "cell_type": "code",
   "execution_count": 47,
   "metadata": {
    "collapsed": false
   },
   "outputs": [
    {
     "data": {
      "text/plain": [
       "2824    0.462910\n",
       "3867    0.400275\n",
       "5062    0.247693\n",
       "442     0.227130\n",
       "3853    0.193660\n",
       "Name: 3712, dtype: float64"
      ]
     },
     "execution_count": 47,
     "metadata": {},
     "output_type": "execute_result"
    }
   ],
   "source": [
    "top_n_corr(3712, 5)"
   ]
  },
  {
   "cell_type": "markdown",
   "metadata": {},
   "source": [
    "# Create a new worksheet in your spreadsheet, and use it to compute the predictions for each movie for users 3867 and 89 by taking the correlation-weighted average of the ratings of the top-five neighbors (for each target user) for each movie."
   ]
  },
  {
   "cell_type": "markdown",
   "metadata": {},
   "source": [
    "$$\\frac{\\sum_{n=1}^{5}r_nw_n}{\\sum_{n=1}^{5}w_n}$$"
   ]
  },
  {
   "cell_type": "code",
   "execution_count": 256,
   "metadata": {
    "collapsed": true
   },
   "outputs": [],
   "source": [
    "def predict_user_n(user, n_neighbor):\n",
    "    \n",
    "    neighbor_corr = top_n_corr(user, n_neighbor, exclude_user=True)\n",
    "    \n",
    "    # numerator\n",
    "    numerator = df.fillna(0).multiply(neighbor_corr).sum(axis=1)\n",
    "    \n",
    "    # denominator\n",
    "    # tem jeito melhor?!\n",
    "    denominator = (~df.isnull()).multiply(neighbor_corr).sum(axis=1)\n",
    "    denominator = denominator.where(denominator != 0, np.inf)\n",
    "    \n",
    "    return numerator / denominator"
   ]
  },
  {
   "cell_type": "markdown",
   "metadata": {},
   "source": [
    "For example, if the user ID was 3712, the correct submission would be:\n",
    "\n",
    "Top Movie: 641 Prediction: 5.000\n",
    "\n",
    "2nd Movie: 603 Prediction: 4.856\n",
    "\n",
    "3rd Movie: 105 Prediction: 4.739\n",
    "\n",
    "And if the user ID were 3525, there would be a three-way tie among:\n",
    "\n",
    "Movies: 238, 194, and 38 (all with a prediction of 5.000) "
   ]
  },
  {
   "cell_type": "code",
   "execution_count": 190,
   "metadata": {
    "collapsed": false
   },
   "outputs": [
    {
     "data": {
      "text/plain": [
       "641: Requiem for a Dream (2000)    5.000000\n",
       "603: The Matrix (1999)             4.855924\n",
       "105: Back to the Future (1985)     4.739173\n",
       "dtype: float64"
      ]
     },
     "execution_count": 190,
     "metadata": {},
     "output_type": "execute_result"
    }
   ],
   "source": [
    "predict_user_n(3712, 5).nlargest(3)"
   ]
  },
  {
   "cell_type": "markdown",
   "metadata": {},
   "source": [
    "And if the user ID were 3525, there would be a three-way tie among:\n",
    "\n",
    "Movies: 238, 194, and 38 (all with a prediction of 5.000) "
   ]
  },
  {
   "cell_type": "code",
   "execution_count": 191,
   "metadata": {
    "collapsed": false
   },
   "outputs": [
    {
     "data": {
      "text/plain": [
       "38: Eternal Sunshine of the Spotless Mind (2004)    5.0\n",
       "194: Amelie (2001)                                  5.0\n",
       "238: The Godfather (1972)                           5.0\n",
       "dtype: float64"
      ]
     },
     "execution_count": 191,
     "metadata": {},
     "output_type": "execute_result"
    }
   ],
   "source": [
    "predict_user_n(3525, 5).nlargest(3)"
   ]
  },
  {
   "cell_type": "code",
   "execution_count": 252,
   "metadata": {
    "collapsed": false
   },
   "outputs": [
    {
     "data": {
      "text/plain": [
       "1891: Star Wars: Episode V - The Empire Strikes Back (1980)    4.760291\n",
       "155: The Dark Knight (2008)                                    4.551454\n",
       "122: The Lord of the Rings: The Return of the King (2003)      4.507637\n",
       "dtype: float64"
      ]
     },
     "execution_count": 252,
     "metadata": {},
     "output_type": "execute_result"
    }
   ],
   "source": [
    "predict_user_n(3867, 5).nlargest(3)"
   ]
  },
  {
   "cell_type": "code",
   "execution_count": 253,
   "metadata": {
    "collapsed": false
   },
   "outputs": [
    {
     "data": {
      "text/plain": [
       "238: The Godfather (1972)               4.894124\n",
       "278: The Shawshank Redemption (1994)    4.882194\n",
       "807: Seven (a.k.a. Se7en) (1995)        4.774093\n",
       "dtype: float64"
      ]
     },
     "execution_count": 253,
     "metadata": {},
     "output_type": "execute_result"
    }
   ],
   "source": [
    "predict_user_n(89, 5).nlargest(3)"
   ]
  },
  {
   "cell_type": "markdown",
   "metadata": {},
   "source": [
    "# Part 2 - Normalization"
   ]
  },
  {
   "cell_type": "code",
   "execution_count": 257,
   "metadata": {
    "collapsed": true
   },
   "outputs": [],
   "source": [
    "def predict_user_n_norm(user, n_neighbor):\n",
    "    \n",
    "    neighbor_corr = top_n_corr(user, n_neighbor, exclude_user=True)\n",
    "    \n",
    "    # numerator\n",
    "    # rating - média do rating p/ o user\n",
    "    rn_ = df.subtract(df.mean())\n",
    "    \n",
    "    numerator = rn_.fillna(0).multiply(neighbor_corr).sum(axis=1)\n",
    "    \n",
    "    # numerator\n",
    "    # tem jeito melhor?!\n",
    "    denominator = (~df.isnull()).multiply(neighbor_corr).sum(axis=1)\n",
    "    denominator = denominator.where(denominator != 0, np.inf)\n",
    "    \n",
    "    return df.loc[:, user].mean() + numerator / denominator"
   ]
  },
  {
   "cell_type": "markdown",
   "metadata": {},
   "source": [
    "For example, if the user ID was 3712, the correct submission would be:\n",
    "\n",
    "Top Movie: 641 Prediction: 5.900\n",
    "\n",
    "2nd Movie: 603 Prediction: 5.546\n",
    "\n",
    "3rd Movie: 105 Prediction: 5.501"
   ]
  },
  {
   "cell_type": "code",
   "execution_count": 258,
   "metadata": {
    "collapsed": false
   },
   "outputs": [
    {
     "data": {
      "text/plain": [
       "641: Requiem for a Dream (2000)    5.900000\n",
       "603: The Matrix (1999)             5.545567\n",
       "105: Back to the Future (1985)     5.500585\n",
       "dtype: float64"
      ]
     },
     "execution_count": 258,
     "metadata": {},
     "output_type": "execute_result"
    }
   ],
   "source": [
    "predict_user_n_norm(3712, 5).nlargest(3)"
   ]
  },
  {
   "cell_type": "markdown",
   "metadata": {},
   "source": [
    "And if the user ID were 3525, the top three would be:\n",
    "\n",
    "Movies: 238, 194, and 38 (all with a prediction of 5.000)\n",
    "\n",
    "Top Movie: 238 Prediction: 4.760\n",
    "\n",
    "2nd Movie: 424 Prediction: 4.663\n",
    "\n",
    "3rd Movie: 134 Prediction: 4.585"
   ]
  },
  {
   "cell_type": "code",
   "execution_count": 250,
   "metadata": {
    "collapsed": false
   },
   "outputs": [
    {
     "data": {
      "text/plain": [
       "238: The Godfather (1972)                4.759504\n",
       "424: Schindler's List (1993)             4.663251\n",
       "134: O Brother Where Art Thou? (2000)    4.585337\n",
       "dtype: float64"
      ]
     },
     "execution_count": 250,
     "metadata": {},
     "output_type": "execute_result"
    }
   ],
   "source": [
    "predict_user_n_norm(3525, 5).nlargest(3)"
   ]
  },
  {
   "cell_type": "code",
   "execution_count": 254,
   "metadata": {
    "collapsed": false
   },
   "outputs": [
    {
     "data": {
      "text/plain": [
       "1891: Star Wars: Episode V - The Empire Strikes Back (1980)    5.245509\n",
       "155: The Dark Knight (2008)                                    4.856770\n",
       "77: Memento (2000)                                             4.777803\n",
       "dtype: float64"
      ]
     },
     "execution_count": 254,
     "metadata": {},
     "output_type": "execute_result"
    }
   ],
   "source": [
    "predict_user_n_norm(3867, 5).nlargest(3)"
   ]
  },
  {
   "cell_type": "code",
   "execution_count": 255,
   "metadata": {
    "collapsed": false
   },
   "outputs": [
    {
     "data": {
      "text/plain": [
       "238: The Godfather (1972)               5.322015\n",
       "278: The Shawshank Redemption (1994)    5.261424\n",
       "275: Fargo (1996)                       5.241111\n",
       "dtype: float64"
      ]
     },
     "execution_count": 255,
     "metadata": {},
     "output_type": "execute_result"
    }
   ],
   "source": [
    "predict_user_n_norm(89, 5).nlargest(3)"
   ]
  },
  {
   "cell_type": "code",
   "execution_count": null,
   "metadata": {
    "collapsed": true
   },
   "outputs": [],
   "source": []
  }
 ],
 "metadata": {
  "kernelspec": {
   "display_name": "Python 3",
   "language": "python",
   "name": "python3"
  },
  "language_info": {
   "codemirror_mode": {
    "name": "ipython",
    "version": 3
   },
   "file_extension": ".py",
   "mimetype": "text/x-python",
   "name": "python",
   "nbconvert_exporter": "python",
   "pygments_lexer": "ipython3",
   "version": "3.5.2"
  }
 },
 "nbformat": 4,
 "nbformat_minor": 0
}

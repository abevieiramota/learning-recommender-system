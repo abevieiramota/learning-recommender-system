{
 "cells": [
  {
   "cell_type": "code",
   "execution_count": 1,
   "metadata": {
    "collapsed": true
   },
   "outputs": [],
   "source": [
    "import pandas as pd\n",
    "import numpy as np\n",
    "from sklearn.metrics.pairwise import cosine_similarity"
   ]
  },
  {
   "cell_type": "code",
   "execution_count": 2,
   "metadata": {
    "collapsed": true
   },
   "outputs": [],
   "source": [
    "df = pd.read_excel('Assignment 5.xls', index_col='User')\n",
    "ndf = pd.read_excel('Assignment 5.xls', index_col='User', sheetname='NormRatings')"
   ]
  },
  {
   "cell_type": "code",
   "execution_count": 3,
   "metadata": {
    "collapsed": false
   },
   "outputs": [],
   "source": [
    "df.drop('Mean', inplace=True, axis=1) # remove coluna Mean\n",
    "l2_norm = df.loc['L2'] # salva l2 norm\n",
    "df.drop('L2', inplace=True) # remove row l2 norm\n",
    "\n",
    "ndf.drop('L2', inplace=True) # remove row l2 norm"
   ]
  },
  {
   "cell_type": "markdown",
   "metadata": {},
   "source": [
    "    Similarity between Toy Story and Star Wars, raw: 0.645\n",
    "    Similarity between Toy Story and Star Wars, normalized: -0.378"
   ]
  },
  {
   "cell_type": "code",
   "execution_count": 4,
   "metadata": {
    "collapsed": false
   },
   "outputs": [
    {
     "data": {
      "text/plain": [
       "1: Toy Story (1995)                                        1.000000\n",
       "1210: Star Wars: Episode VI - Return of the Jedi (1983)    0.644995\n",
       "356: Forrest Gump (1994)                                   0.580540\n",
       "318: Shawshank Redemption, The (1994)                      0.667424\n",
       "593: Silence of the Lambs, The (1991)                      0.570229\n",
       "3578: Gladiator (2000)                                     0.587852\n",
       "260: Star Wars: Episode IV - A New Hope (1977)             0.747409\n",
       "2028: Saving Private Ryan (1998)                           0.534579\n",
       "296: Pulp Fiction (1994)                                   0.667846\n",
       "1259: Stand by Me (1986)                                   0.492659\n",
       "2396: Shakespeare in Love (1998)                           0.376659\n",
       "2916: Total Recall (1990)                                  0.623056\n",
       "780: Independence Day (ID4) (1996)                         0.690665\n",
       "541: Blade Runner (1982)                                   0.383067\n",
       "1265: Groundhog Day (1993)                                 0.661016\n",
       "2571: Matrix, The (1999)                                   0.505010\n",
       "527: Schindler's List (1993)                               0.463817\n",
       "2762: Sixth Sense, The (1999)                              0.421637\n",
       "1198: Raiders of the Lost Ark (1981)                       0.466817\n",
       "34: Babe (1995)                                            0.618070\n",
       "Name: 1: Toy Story (1995), dtype: float64"
      ]
     },
     "execution_count": 4,
     "metadata": {},
     "output_type": "execute_result"
    }
   ],
   "source": [
    "df_cos = cosine_similarity(df.T.fillna(0), df.T.fillna(0))\n",
    "dfcos = pd.DataFrame(df_cos, index=df.columns, columns=df.columns)\n",
    "\n",
    "dfcos['1: Toy Story (1995)']"
   ]
  },
  {
   "cell_type": "code",
   "execution_count": 5,
   "metadata": {
    "collapsed": false
   },
   "outputs": [
    {
     "data": {
      "text/plain": [
       "1: Toy Story (1995)                                        1.000000\n",
       "1210: Star Wars: Episode VI - Return of the Jedi (1983)   -0.377771\n",
       "356: Forrest Gump (1994)                                   0.355780\n",
       "318: Shawshank Redemption, The (1994)                      0.215975\n",
       "593: Silence of the Lambs, The (1991)                     -0.603708\n",
       "3578: Gladiator (2000)                                     0.139214\n",
       "260: Star Wars: Episode IV - A New Hope (1977)            -0.050338\n",
       "2028: Saving Private Ryan (1998)                           0.192799\n",
       "296: Pulp Fiction (1994)                                   0.295013\n",
       "1259: Stand by Me (1986)                                  -0.225657\n",
       "2396: Shakespeare in Love (1998)                           0.116755\n",
       "2916: Total Recall (1990)                                  0.184712\n",
       "780: Independence Day (ID4) (1996)                        -0.319904\n",
       "541: Blade Runner (1982)                                   0.020007\n",
       "1265: Groundhog Day (1993)                                -0.105584\n",
       "2571: Matrix, The (1999)                                  -0.420331\n",
       "527: Schindler's List (1993)                              -0.146784\n",
       "2762: Sixth Sense, The (1999)                             -0.241281\n",
       "1198: Raiders of the Lost Ark (1981)                      -0.248857\n",
       "34: Babe (1995)                                            0.554448\n",
       "Name: 1: Toy Story (1995), dtype: float64"
      ]
     },
     "execution_count": 5,
     "metadata": {},
     "output_type": "execute_result"
    }
   ],
   "source": [
    "ndf_cos = cosine_similarity(ndf.T.fillna(0), ndf.T.fillna(0))\n",
    "ndfcos = pd.DataFrame(ndf_cos, index=ndf.columns, columns=ndf.columns)\n",
    "\n",
    "ndfcos['1: Toy Story (1995)']"
   ]
  },
  {
   "cell_type": "markdown",
   "metadata": {},
   "source": [
    "# Top 5 Toy Story"
   ]
  },
  {
   "cell_type": "markdown",
   "metadata": {},
   "source": [
    "## Unnormalized"
   ]
  },
  {
   "cell_type": "code",
   "execution_count": 6,
   "metadata": {
    "collapsed": false
   },
   "outputs": [
    {
     "data": {
      "text/plain": [
       "1: Toy Story (1995)                               1.000000\n",
       "260: Star Wars: Episode IV - A New Hope (1977)    0.747409\n",
       "780: Independence Day (ID4) (1996)                0.690665\n",
       "296: Pulp Fiction (1994)                          0.667846\n",
       "318: Shawshank Redemption, The (1994)             0.667424\n",
       "1265: Groundhog Day (1993)                        0.661016\n",
       "Name: 1: Toy Story (1995), dtype: float64"
      ]
     },
     "execution_count": 6,
     "metadata": {},
     "output_type": "execute_result"
    }
   ],
   "source": [
    "dfcos['1: Toy Story (1995)'].nlargest(6)"
   ]
  },
  {
   "cell_type": "markdown",
   "metadata": {},
   "source": [
    "## Normalized"
   ]
  },
  {
   "cell_type": "code",
   "execution_count": 7,
   "metadata": {
    "collapsed": false
   },
   "outputs": [
    {
     "data": {
      "text/plain": [
       "1: Toy Story (1995)                      1.000000\n",
       "34: Babe (1995)                          0.554448\n",
       "356: Forrest Gump (1994)                 0.355780\n",
       "296: Pulp Fiction (1994)                 0.295013\n",
       "318: Shawshank Redemption, The (1994)    0.215975\n",
       "2028: Saving Private Ryan (1998)         0.192799\n",
       "Name: 1: Toy Story (1995), dtype: float64"
      ]
     },
     "execution_count": 7,
     "metadata": {},
     "output_type": "execute_result"
    }
   ],
   "source": [
    "ndfcos['1: Toy Story (1995)'].nlargest(6)"
   ]
  },
  {
   "cell_type": "markdown",
   "metadata": {},
   "source": [
    "# Top 5 for User 5277"
   ]
  },
  {
   "cell_type": "code",
   "execution_count": 8,
   "metadata": {
    "collapsed": false
   },
   "outputs": [
    {
     "data": {
      "text/plain": [
       "1: Toy Story (1995)                                        1.0\n",
       "1210: Star Wars: Episode VI - Return of the Jedi (1983)    NaN\n",
       "356: Forrest Gump (1994)                                   NaN\n",
       "318: Shawshank Redemption, The (1994)                      2.0\n",
       "593: Silence of the Lambs, The (1991)                      4.0\n",
       "3578: Gladiator (2000)                                     2.0\n",
       "260: Star Wars: Episode IV - A New Hope (1977)             5.0\n",
       "2028: Saving Private Ryan (1998)                           NaN\n",
       "296: Pulp Fiction (1994)                                   NaN\n",
       "1259: Stand by Me (1986)                                   4.0\n",
       "2396: Shakespeare in Love (1998)                           3.0\n",
       "2916: Total Recall (1990)                                  2.0\n",
       "780: Independence Day (ID4) (1996)                         2.0\n",
       "541: Blade Runner (1982)                                   NaN\n",
       "1265: Groundhog Day (1993)                                 2.0\n",
       "2571: Matrix, The (1999)                                   NaN\n",
       "527: Schindler's List (1993)                               5.0\n",
       "2762: Sixth Sense, The (1999)                              1.0\n",
       "1198: Raiders of the Lost Ark (1981)                       3.0\n",
       "34: Babe (1995)                                            NaN\n",
       "Name: 5277, dtype: float64"
      ]
     },
     "execution_count": 8,
     "metadata": {},
     "output_type": "execute_result"
    }
   ],
   "source": [
    "df.loc[5277]"
   ]
  },
  {
   "cell_type": "markdown",
   "metadata": {
    "collapsed": true
   },
   "source": [
    "nota do usuário * similaridade dos items / sum(similaridades)"
   ]
  },
  {
   "cell_type": "markdown",
   "metadata": {},
   "source": [
    "## Unnormalized"
   ]
  },
  {
   "cell_type": "code",
   "execution_count": 14,
   "metadata": {
    "collapsed": false
   },
   "outputs": [
    {
     "data": {
      "text/plain": [
       "527: Schindler's List (1993)                      2.973883\n",
       "1259: Stand by Me (1986)                          2.928801\n",
       "260: Star Wars: Episode IV - A New Hope (1977)    2.922240\n",
       "593: Silence of the Lambs, The (1991)             2.883304\n",
       "2396: Shakespeare in Love (1998)                  2.852131\n",
       "Name: 5277, dtype: float64"
      ]
     },
     "execution_count": 14,
     "metadata": {},
     "output_type": "execute_result"
    }
   ],
   "source": [
    "numerator = df.loc[5277].fillna(0).dot(dfcos)\n",
    "denominator = df.loc[5277].notnull().dot(dfcos)\n",
    "\n",
    "(numerator / denominator).nlargest(5)"
   ]
  },
  {
   "cell_type": "code",
   "execution_count": 31,
   "metadata": {
    "collapsed": false
   },
   "outputs": [
    {
     "data": {
      "text/plain": [
       "296: Pulp Fiction (1994)                                   3.420229\n",
       "318: Shawshank Redemption, The (1994)                      3.405435\n",
       "34: Babe (1995)                                            3.368467\n",
       "1210: Star Wars: Episode VI - Return of the Jedi (1983)    3.268356\n",
       "1: Toy Story (1995)                                        3.265483\n",
       "Name: 3048, dtype: float64"
      ]
     },
     "execution_count": 31,
     "metadata": {},
     "output_type": "execute_result"
    }
   ],
   "source": [
    "numerator = df.loc[3048].fillna(0).dot(dfcos)\n",
    "denominator = df.loc[3048].notnull().dot(dfcos)\n",
    "\n",
    "(numerator / denominator).nlargest(5)"
   ]
  },
  {
   "cell_type": "code",
   "execution_count": 34,
   "metadata": {
    "collapsed": false
   },
   "outputs": [
    {
     "data": {
      "text/plain": [
       "{'1198: Raiders of the Lost Ark (1981)': 6.5109526268931139,\n",
       " '1210: Star Wars: Episode VI - Return of the Jedi (1983)': 7.3577007648527539,\n",
       " '1259: Stand by Me (1986)': 6.0597760845723183,\n",
       " '1265: Groundhog Day (1993)': 6.4673671177044261,\n",
       " '1: Toy Story (1995)': 7.8197028709620664,\n",
       " '2028: Saving Private Ryan (1998)': 6.6513423029178869,\n",
       " '2396: Shakespeare in Love (1998)': 5.8083671587818904,\n",
       " '2571: Matrix, The (1999)': 5.5135229642438341,\n",
       " '260: Star Wars: Episode IV - A New Hope (1977)': 8.0589125012704965,\n",
       " '2762: Sixth Sense, The (1999)': 7.1286952347917776,\n",
       " '2916: Total Recall (1990)': 5.9711879911819583,\n",
       " '296: Pulp Fiction (1994)': 7.0773467531528915,\n",
       " '318: Shawshank Redemption, The (1994)': 6.8212253352570613,\n",
       " '34: Babe (1995)': 6.4802403870320386,\n",
       " '356: Forrest Gump (1994)': 6.5381041752776481,\n",
       " '3578: Gladiator (2000)': 6.7430014096773663,\n",
       " \"527: Schindler's List (1993)\": 7.1367201337271196,\n",
       " '541: Blade Runner (1982)': 7.0010547324841763,\n",
       " '593: Silence of the Lambs, The (1991)': 7.7618295481156387,\n",
       " '780: Independence Day (ID4) (1996)': 7.0099638569674436}"
      ]
     },
     "execution_count": 34,
     "metadata": {},
     "output_type": "execute_result"
    }
   ],
   "source": [
    "denominator.to_dict()"
   ]
  },
  {
   "cell_type": "markdown",
   "metadata": {},
   "source": [
    "## Normalized"
   ]
  },
  {
   "cell_type": "code",
   "execution_count": 11,
   "metadata": {
    "collapsed": true
   },
   "outputs": [],
   "source": [
    "nndfcos = ndfcos.where(ndfcos > 0, 0) # remove similaridades negativas"
   ]
  },
  {
   "cell_type": "markdown",
   "metadata": {},
   "source": [
    "    What is the ID of the third highest recommended movie for user 5277?\n",
    "\n",
    "    1259: Stand by Me (1986)  "
   ]
  },
  {
   "cell_type": "code",
   "execution_count": 12,
   "metadata": {
    "collapsed": false
   },
   "outputs": [
    {
     "data": {
      "text/plain": [
       "260: Star Wars: Episode IV - A New Hope (1977)    1.796591\n",
       "527: Schindler's List (1993)                      1.793252\n",
       "1259: Stand by Me (1986)                          0.832911\n",
       "2396: Shakespeare in Love (1998)                  0.528708\n",
       "593: Silence of the Lambs, The (1991)             0.451659\n",
       "Name: 5277, dtype: float64"
      ]
     },
     "execution_count": 12,
     "metadata": {},
     "output_type": "execute_result"
    }
   ],
   "source": [
    "numerator = ndf.loc[5277].dot(nndfcos)\n",
    "denominator = df.loc[5277].notnull().dot(nndfcos)\n",
    "\n",
    "(numerator / denominator).nlargest(5)"
   ]
  },
  {
   "cell_type": "code",
   "execution_count": 17,
   "metadata": {
    "collapsed": false
   },
   "outputs": [
    {
     "data": {
      "text/plain": [
       "1210: Star Wars: Episode VI - Return of the Jedi (1983)    1.754406\n",
       "318: Shawshank Redemption, The (1994)                      1.672978\n",
       "296: Pulp Fiction (1994)                                   1.580148\n",
       "34: Babe (1995)                                            1.578320\n",
       "2916: Total Recall (1990)                                  1.106043\n",
       "Name: 3048, dtype: float64"
      ]
     },
     "execution_count": 17,
     "metadata": {},
     "output_type": "execute_result"
    }
   ],
   "source": [
    "numerator = ndf.loc[3048].dot(nndfcos)\n",
    "denominator = df.loc[3048].notnull().dot(nndfcos)\n",
    "\n",
    "(numerator / denominator).nlargest(5)"
   ]
  },
  {
   "cell_type": "code",
   "execution_count": null,
   "metadata": {
    "collapsed": true
   },
   "outputs": [],
   "source": []
  },
  {
   "cell_type": "code",
   "execution_count": null,
   "metadata": {
    "collapsed": true
   },
   "outputs": [],
   "source": []
  },
  {
   "cell_type": "code",
   "execution_count": null,
   "metadata": {
    "collapsed": true
   },
   "outputs": [],
   "source": []
  }
 ],
 "metadata": {
  "kernelspec": {
   "display_name": "Python 3",
   "language": "python",
   "name": "python3"
  },
  "language_info": {
   "codemirror_mode": {
    "name": "ipython",
    "version": 3
   },
   "file_extension": ".py",
   "mimetype": "text/x-python",
   "name": "python",
   "nbconvert_exporter": "python",
   "pygments_lexer": "ipython3",
   "version": "3.5.2"
  }
 },
 "nbformat": 4,
 "nbformat_minor": 0
}

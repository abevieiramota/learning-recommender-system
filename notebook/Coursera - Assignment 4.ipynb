{
 "cells": [
  {
   "cell_type": "code",
   "execution_count": 46,
   "metadata": {
    "collapsed": true
   },
   "outputs": [],
   "source": [
    "import pandas as pd\n",
    "import numpy as np\n",
    "from sklearn.metrics.pairwise import cosine_similarity"
   ]
  },
  {
   "cell_type": "code",
   "execution_count": 115,
   "metadata": {
    "collapsed": true
   },
   "outputs": [],
   "source": [
    "df = pd.read_excel('Assignment 5.xls', index_col='User')\n",
    "ndf = pd.read_excel('Assignment 5.xls', index_col='User', sheetname='NormRatings')"
   ]
  },
  {
   "cell_type": "code",
   "execution_count": 116,
   "metadata": {
    "collapsed": false
   },
   "outputs": [],
   "source": [
    "df.drop('Mean', inplace=True, axis=1) # remove coluna Mean\n",
    "l2_norm = df.loc['L2'] # salva l2 norm\n",
    "df.drop('L2', inplace=True) # remove row l2 norm\n",
    "\n",
    "ndf.drop('L2', inplace=True) # remove row l2 norm"
   ]
  },
  {
   "cell_type": "markdown",
   "metadata": {},
   "source": [
    "    Similarity between Toy Story and Star Wars, raw: 0.645\n",
    "    Similarity between Toy Story and Star Wars, normalized: -0.378"
   ]
  },
  {
   "cell_type": "code",
   "execution_count": 52,
   "metadata": {
    "collapsed": false
   },
   "outputs": [
    {
     "data": {
      "text/plain": [
       "1: Toy Story (1995)                                        1.000000\n",
       "1210: Star Wars: Episode VI - Return of the Jedi (1983)    0.644995\n",
       "356: Forrest Gump (1994)                                   0.580540\n",
       "318: Shawshank Redemption, The (1994)                      0.667424\n",
       "593: Silence of the Lambs, The (1991)                      0.570229\n",
       "3578: Gladiator (2000)                                     0.587852\n",
       "260: Star Wars: Episode IV - A New Hope (1977)             0.747409\n",
       "2028: Saving Private Ryan (1998)                           0.534579\n",
       "296: Pulp Fiction (1994)                                   0.667846\n",
       "1259: Stand by Me (1986)                                   0.492659\n",
       "2396: Shakespeare in Love (1998)                           0.376659\n",
       "2916: Total Recall (1990)                                  0.623056\n",
       "780: Independence Day (ID4) (1996)                         0.690665\n",
       "541: Blade Runner (1982)                                   0.383067\n",
       "1265: Groundhog Day (1993)                                 0.661016\n",
       "2571: Matrix, The (1999)                                   0.505010\n",
       "527: Schindler's List (1993)                               0.463817\n",
       "2762: Sixth Sense, The (1999)                              0.421637\n",
       "1198: Raiders of the Lost Ark (1981)                       0.466817\n",
       "34: Babe (1995)                                            0.618070\n",
       "Name: 1: Toy Story (1995), dtype: float64"
      ]
     },
     "execution_count": 52,
     "metadata": {},
     "output_type": "execute_result"
    }
   ],
   "source": [
    "df_cos = cosine_similarity(df.T.fillna(0), df.T.fillna(0))\n",
    "dfcos = pd.DataFrame(df_cos, index=df.columns, columns=df.columns)\n",
    "\n",
    "dfcos['1: Toy Story (1995)']"
   ]
  },
  {
   "cell_type": "code",
   "execution_count": 53,
   "metadata": {
    "collapsed": false
   },
   "outputs": [
    {
     "data": {
      "text/plain": [
       "1: Toy Story (1995)                                        1.000000\n",
       "1210: Star Wars: Episode VI - Return of the Jedi (1983)   -0.377771\n",
       "356: Forrest Gump (1994)                                   0.355780\n",
       "318: Shawshank Redemption, The (1994)                      0.215975\n",
       "593: Silence of the Lambs, The (1991)                     -0.603708\n",
       "3578: Gladiator (2000)                                     0.139214\n",
       "260: Star Wars: Episode IV - A New Hope (1977)            -0.050338\n",
       "2028: Saving Private Ryan (1998)                           0.192799\n",
       "296: Pulp Fiction (1994)                                   0.295013\n",
       "1259: Stand by Me (1986)                                  -0.225657\n",
       "2396: Shakespeare in Love (1998)                           0.116755\n",
       "2916: Total Recall (1990)                                  0.184712\n",
       "780: Independence Day (ID4) (1996)                        -0.319904\n",
       "541: Blade Runner (1982)                                   0.020007\n",
       "1265: Groundhog Day (1993)                                -0.105584\n",
       "2571: Matrix, The (1999)                                  -0.420331\n",
       "527: Schindler's List (1993)                              -0.146784\n",
       "2762: Sixth Sense, The (1999)                             -0.241281\n",
       "1198: Raiders of the Lost Ark (1981)                      -0.248857\n",
       "34: Babe (1995)                                            0.554448\n",
       "Name: 1: Toy Story (1995), dtype: float64"
      ]
     },
     "execution_count": 53,
     "metadata": {},
     "output_type": "execute_result"
    }
   ],
   "source": [
    "ndf_cos = cosine_similarity(ndf.T.fillna(0), ndf.T.fillna(0))\n",
    "ndfcos = pd.DataFrame(ndf_cos, index=ndf.columns, columns=ndf.columns)\n",
    "\n",
    "ndfcos['1: Toy Story (1995)']"
   ]
  },
  {
   "cell_type": "markdown",
   "metadata": {},
   "source": [
    "# Top 5 Toy Story"
   ]
  },
  {
   "cell_type": "markdown",
   "metadata": {},
   "source": [
    "## Unnormalized"
   ]
  },
  {
   "cell_type": "code",
   "execution_count": 55,
   "metadata": {
    "collapsed": false
   },
   "outputs": [
    {
     "data": {
      "text/plain": [
       "1: Toy Story (1995)                               1.000000\n",
       "260: Star Wars: Episode IV - A New Hope (1977)    0.747409\n",
       "780: Independence Day (ID4) (1996)                0.690665\n",
       "296: Pulp Fiction (1994)                          0.667846\n",
       "318: Shawshank Redemption, The (1994)             0.667424\n",
       "1265: Groundhog Day (1993)                        0.661016\n",
       "Name: 1: Toy Story (1995), dtype: float64"
      ]
     },
     "execution_count": 55,
     "metadata": {},
     "output_type": "execute_result"
    }
   ],
   "source": [
    "dfcos['1: Toy Story (1995)'].nlargest(6)"
   ]
  },
  {
   "cell_type": "markdown",
   "metadata": {},
   "source": [
    "## Normalized"
   ]
  },
  {
   "cell_type": "code",
   "execution_count": 56,
   "metadata": {
    "collapsed": false
   },
   "outputs": [
    {
     "data": {
      "text/plain": [
       "1: Toy Story (1995)                      1.000000\n",
       "34: Babe (1995)                          0.554448\n",
       "356: Forrest Gump (1994)                 0.355780\n",
       "296: Pulp Fiction (1994)                 0.295013\n",
       "318: Shawshank Redemption, The (1994)    0.215975\n",
       "2028: Saving Private Ryan (1998)         0.192799\n",
       "Name: 1: Toy Story (1995), dtype: float64"
      ]
     },
     "execution_count": 56,
     "metadata": {},
     "output_type": "execute_result"
    }
   ],
   "source": [
    "ndfcos['1: Toy Story (1995)'].nlargest(6)"
   ]
  },
  {
   "cell_type": "markdown",
   "metadata": {},
   "source": [
    "# Top 5 for User 5277"
   ]
  },
  {
   "cell_type": "code",
   "execution_count": 58,
   "metadata": {
    "collapsed": false
   },
   "outputs": [
    {
     "data": {
      "text/plain": [
       "1: Toy Story (1995)                                        1.0\n",
       "1210: Star Wars: Episode VI - Return of the Jedi (1983)    NaN\n",
       "356: Forrest Gump (1994)                                   NaN\n",
       "318: Shawshank Redemption, The (1994)                      2.0\n",
       "593: Silence of the Lambs, The (1991)                      4.0\n",
       "3578: Gladiator (2000)                                     2.0\n",
       "260: Star Wars: Episode IV - A New Hope (1977)             5.0\n",
       "2028: Saving Private Ryan (1998)                           NaN\n",
       "296: Pulp Fiction (1994)                                   NaN\n",
       "1259: Stand by Me (1986)                                   4.0\n",
       "2396: Shakespeare in Love (1998)                           3.0\n",
       "2916: Total Recall (1990)                                  2.0\n",
       "780: Independence Day (ID4) (1996)                         2.0\n",
       "541: Blade Runner (1982)                                   NaN\n",
       "1265: Groundhog Day (1993)                                 2.0\n",
       "2571: Matrix, The (1999)                                   NaN\n",
       "527: Schindler's List (1993)                               5.0\n",
       "2762: Sixth Sense, The (1999)                              1.0\n",
       "1198: Raiders of the Lost Ark (1981)                       3.0\n",
       "34: Babe (1995)                                            NaN\n",
       "Name: 5277, dtype: float64"
      ]
     },
     "execution_count": 58,
     "metadata": {},
     "output_type": "execute_result"
    }
   ],
   "source": [
    "df.loc[5277]"
   ]
  },
  {
   "cell_type": "code",
   "execution_count": null,
   "metadata": {
    "collapsed": true
   },
   "outputs": [],
   "source": [
    "nota do usuário * similaridade dos items / sum(similaridades)"
   ]
  },
  {
   "cell_type": "markdown",
   "metadata": {},
   "source": [
    "## Unnormalized"
   ]
  },
  {
   "cell_type": "code",
   "execution_count": null,
   "metadata": {
    "collapsed": true
   },
   "outputs": [],
   "source": [
    "def predict_user_n_norm(user, n_neighbor):\n",
    "    \n",
    "    neighbor_corr = top_n_corr(user, n_neighbor, exclude_user=True)\n",
    "    \n",
    "    # numerator\n",
    "    # rating - média do rating p/ o user\n",
    "    rn_ = df.subtract(df.mean())\n",
    "    \n",
    "    numerator = rn_.fillna(0).multiply(neighbor_corr).sum(axis=1)\n",
    "    \n",
    "    # numerator\n",
    "    denominator = (~df.isnull()).multiply(neighbor_corr).sum(axis=1)\n",
    "    \n",
    "    return df.loc[:, user].mean() + numerator / denominator"
   ]
  },
  {
   "cell_type": "code",
   "execution_count": 142,
   "metadata": {
    "collapsed": false
   },
   "outputs": [
    {
     "data": {
      "text/plain": [
       "527: Schindler's List (1993)                      2.973883\n",
       "1259: Stand by Me (1986)                          2.928801\n",
       "260: Star Wars: Episode IV - A New Hope (1977)    2.922240\n",
       "593: Silence of the Lambs, The (1991)             2.883304\n",
       "2396: Shakespeare in Love (1998)                  2.852131\n",
       "Name: 5277, dtype: float64"
      ]
     },
     "execution_count": 142,
     "metadata": {},
     "output_type": "execute_result"
    }
   ],
   "source": [
    "numerator = df.loc[5277].fillna(0).dot(dfcos)\n",
    "denominator = df.loc[5277].notnull().dot(dfcos)\n",
    "\n",
    "(numerator / denominator).nlargest(5)"
   ]
  },
  {
   "cell_type": "markdown",
   "metadata": {},
   "source": [
    "## Normalized"
   ]
  },
  {
   "cell_type": "code",
   "execution_count": 71,
   "metadata": {
    "collapsed": true
   },
   "outputs": [],
   "source": [
    "nndfcos = ndfcos.where(ndfcos > 0, 0) # remove similaridades negativas"
   ]
  },
  {
   "cell_type": "markdown",
   "metadata": {},
   "source": [
    "    What is the ID of the third highest recommended movie for user 5277?\n",
    "\n",
    "    1259: Stand by Me (1986)  "
   ]
  },
  {
   "cell_type": "code",
   "execution_count": 141,
   "metadata": {
    "collapsed": false
   },
   "outputs": [
    {
     "data": {
      "text/plain": [
       "260: Star Wars: Episode IV - A New Hope (1977)    1.796591\n",
       "527: Schindler's List (1993)                      1.793252\n",
       "1259: Stand by Me (1986)                          0.832911\n",
       "2396: Shakespeare in Love (1998)                  0.528708\n",
       "593: Silence of the Lambs, The (1991)             0.451659\n",
       "Name: 5277, dtype: float64"
      ]
     },
     "execution_count": 141,
     "metadata": {},
     "output_type": "execute_result"
    }
   ],
   "source": [
    "numerator = ndf.loc[5277].dot(nndfcos)\n",
    "denominator = df.loc[5277].notnull().dot(nndfcos)\n",
    "\n",
    "(numerator / denominator).nlargest(5)"
   ]
  }
 ],
 "metadata": {
  "kernelspec": {
   "display_name": "Python [Root]",
   "language": "python",
   "name": "Python [Root]"
  },
  "language_info": {
   "codemirror_mode": {
    "name": "ipython",
    "version": 3
   },
   "file_extension": ".py",
   "mimetype": "text/x-python",
   "name": "python",
   "nbconvert_exporter": "python",
   "pygments_lexer": "ipython3",
   "version": "3.5.2"
  }
 },
 "nbformat": 4,
 "nbformat_minor": 0
}

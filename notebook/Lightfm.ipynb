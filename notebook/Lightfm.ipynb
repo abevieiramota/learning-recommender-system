{
 "cells": [
  {
   "cell_type": "code",
   "execution_count": 27,
   "metadata": {
    "collapsed": true
   },
   "outputs": [],
   "source": [
    "from lightfm import LightFM\n",
    "from scipy.sparse import coo_matrix\n",
    "import pandas as pd\n",
    "import numpy as np"
   ]
  },
  {
   "cell_type": "code",
   "execution_count": 29,
   "metadata": {
    "collapsed": true
   },
   "outputs": [],
   "source": [
    "user_movie = pd.DataFrame([\\\n",
    "                             ('Abelardo', 'Life of Pi', 9),\n",
    "                             ('Abelardo', 'Donnie Darko', 9),\n",
    "                             ('Abelardo', 'Titanic', 4),\n",
    "                             ('Abelardo', 'Brasileirinhas', 10),\n",
    "                             ('Cris', 'Chuck', 10),\n",
    "                             ('Cris', 'Apocalypse now', 6),\n",
    "                             ('Cris', 'Bastardos Inglórios', 7),\n",
    "                             ('Obama', 'Bastardos Inglórios', 8),\n",
    "                             ('Obama', 'Titanic', 10),\n",
    "                             ('Obama', 'Brasileirinhas', 6),\n",
    "                             ('ElTaradão', 'Brasileirinhas', 10),\n",
    "                             ('ElTaradão', 'Francesinhas', 10),\n",
    "                             ('ElTaradão', 'Espanholinhas', 10),\n",
    "                             ('ElTaradão', 'Apocalypse now', 1),\n",
    "                             ('ElSerião', 'Francesinhas', 0),\n",
    "                             ('ElSerião', 'Espanholinhas', 0),\n",
    "                             ('ElSerião', 'Apocalypse now', 10),\n",
    "                             ('ElSerião', 'Titanic', 8),\n",
    "                             ('ElSerião', 'Chuck', 2),\n",
    "                             ('ElSerião', 'DonnieDarko', 8),\n",
    "                             ('ElSerião', 'Life of Pi', 9)\n",
    "                             ], columns=['user', 'movie', 'rating'])"
   ]
  },
  {
   "cell_type": "code",
   "execution_count": 30,
   "metadata": {
    "collapsed": true
   },
   "outputs": [],
   "source": [
    "u_matrix = pd.pivot_table(user_movie, values='rating', columns='movie', index='user', aggfunc='mean')"
   ]
  },
  {
   "cell_type": "code",
   "execution_count": 31,
   "metadata": {
    "collapsed": false
   },
   "outputs": [
    {
     "data": {
      "text/html": [
       "<div>\n",
       "<table border=\"1\" class=\"dataframe\">\n",
       "  <thead>\n",
       "    <tr style=\"text-align: right;\">\n",
       "      <th>movie</th>\n",
       "      <th>Apocalypse now</th>\n",
       "      <th>Bastardos Inglórios</th>\n",
       "      <th>Brasileirinhas</th>\n",
       "      <th>Chuck</th>\n",
       "      <th>Donnie Darko</th>\n",
       "      <th>DonnieDarko</th>\n",
       "      <th>Espanholinhas</th>\n",
       "      <th>Francesinhas</th>\n",
       "      <th>Life of Pi</th>\n",
       "      <th>Titanic</th>\n",
       "    </tr>\n",
       "    <tr>\n",
       "      <th>user</th>\n",
       "      <th></th>\n",
       "      <th></th>\n",
       "      <th></th>\n",
       "      <th></th>\n",
       "      <th></th>\n",
       "      <th></th>\n",
       "      <th></th>\n",
       "      <th></th>\n",
       "      <th></th>\n",
       "      <th></th>\n",
       "    </tr>\n",
       "  </thead>\n",
       "  <tbody>\n",
       "    <tr>\n",
       "      <th>Abelardo</th>\n",
       "      <td>False</td>\n",
       "      <td>False</td>\n",
       "      <td>False</td>\n",
       "      <td>False</td>\n",
       "      <td>False</td>\n",
       "      <td>False</td>\n",
       "      <td>False</td>\n",
       "      <td>False</td>\n",
       "      <td>False</td>\n",
       "      <td>True</td>\n",
       "    </tr>\n",
       "    <tr>\n",
       "      <th>Cris</th>\n",
       "      <td>False</td>\n",
       "      <td>False</td>\n",
       "      <td>False</td>\n",
       "      <td>False</td>\n",
       "      <td>False</td>\n",
       "      <td>False</td>\n",
       "      <td>False</td>\n",
       "      <td>False</td>\n",
       "      <td>False</td>\n",
       "      <td>False</td>\n",
       "    </tr>\n",
       "    <tr>\n",
       "      <th>ElSerião</th>\n",
       "      <td>False</td>\n",
       "      <td>False</td>\n",
       "      <td>False</td>\n",
       "      <td>True</td>\n",
       "      <td>False</td>\n",
       "      <td>False</td>\n",
       "      <td>True</td>\n",
       "      <td>True</td>\n",
       "      <td>False</td>\n",
       "      <td>False</td>\n",
       "    </tr>\n",
       "    <tr>\n",
       "      <th>ElTaradão</th>\n",
       "      <td>True</td>\n",
       "      <td>False</td>\n",
       "      <td>False</td>\n",
       "      <td>False</td>\n",
       "      <td>False</td>\n",
       "      <td>False</td>\n",
       "      <td>False</td>\n",
       "      <td>False</td>\n",
       "      <td>False</td>\n",
       "      <td>False</td>\n",
       "    </tr>\n",
       "    <tr>\n",
       "      <th>Obama</th>\n",
       "      <td>False</td>\n",
       "      <td>False</td>\n",
       "      <td>False</td>\n",
       "      <td>False</td>\n",
       "      <td>False</td>\n",
       "      <td>False</td>\n",
       "      <td>False</td>\n",
       "      <td>False</td>\n",
       "      <td>False</td>\n",
       "      <td>False</td>\n",
       "    </tr>\n",
       "  </tbody>\n",
       "</table>\n",
       "</div>"
      ],
      "text/plain": [
       "movie     Apocalypse now Bastardos Inglórios Brasileirinhas  Chuck  \\\n",
       "user                                                                 \n",
       "Abelardo           False               False          False  False   \n",
       "Cris               False               False          False  False   \n",
       "ElSerião           False               False          False   True   \n",
       "ElTaradão           True               False          False  False   \n",
       "Obama              False               False          False  False   \n",
       "\n",
       "movie     Donnie Darko DonnieDarko Espanholinhas Francesinhas Life of Pi  \\\n",
       "user                                                                       \n",
       "Abelardo         False       False         False        False      False   \n",
       "Cris             False       False         False        False      False   \n",
       "ElSerião         False       False          True         True      False   \n",
       "ElTaradão        False       False         False        False      False   \n",
       "Obama            False       False         False        False      False   \n",
       "\n",
       "movie     Titanic  \n",
       "user               \n",
       "Abelardo     True  \n",
       "Cris        False  \n",
       "ElSerião    False  \n",
       "ElTaradão   False  \n",
       "Obama       False  "
      ]
     },
     "execution_count": 31,
     "metadata": {},
     "output_type": "execute_result"
    }
   ],
   "source": [
    "u_matrix.applymap(lambda x: x is None or x < 5)"
   ]
  },
  {
   "cell_type": "code",
   "execution_count": 32,
   "metadata": {
    "collapsed": true
   },
   "outputs": [],
   "source": [
    "model = LightFM(no_components=30)"
   ]
  },
  {
   "cell_type": "code",
   "execution_count": 33,
   "metadata": {
    "collapsed": true
   },
   "outputs": [],
   "source": [
    "u_matrix_coo = coo_matrix(u_matrix)"
   ]
  },
  {
   "cell_type": "code",
   "execution_count": 34,
   "metadata": {
    "collapsed": false
   },
   "outputs": [
    {
     "data": {
      "text/plain": [
       "<lightfm.lightfm.LightFM at 0x7f58b750ff28>"
      ]
     },
     "execution_count": 34,
     "metadata": {},
     "output_type": "execute_result"
    }
   ],
   "source": [
    "model.fit(u_matrix_coo, epochs=20)"
   ]
  },
  {
   "cell_type": "code",
   "execution_count": 39,
   "metadata": {
    "collapsed": false
   },
   "outputs": [
    {
     "data": {
      "text/plain": [
       "array([-0.19447996, -0.4224987 , -0.16314648, -0.46154952, -0.7358157 ,\n",
       "       -0.76479536])"
      ]
     },
     "execution_count": 39,
     "metadata": {},
     "output_type": "execute_result"
    }
   ],
   "source": [
    "model.predict(4, np.arange(0, 6))"
   ]
  },
  {
   "cell_type": "code",
   "execution_count": 40,
   "metadata": {
    "collapsed": false
   },
   "outputs": [
    {
     "data": {
      "text/plain": [
       "1e-06"
      ]
     },
     "execution_count": 40,
     "metadata": {},
     "output_type": "execute_result"
    }
   ],
   "source": [
    "model.epsilon"
   ]
  },
  {
   "cell_type": "code",
   "execution_count": null,
   "metadata": {
    "collapsed": true
   },
   "outputs": [],
   "source": []
  }
 ],
 "metadata": {
  "kernelspec": {
   "display_name": "Python 3",
   "language": "python",
   "name": "python3"
  },
  "language_info": {
   "codemirror_mode": {
    "name": "ipython",
    "version": 3
   },
   "file_extension": ".py",
   "mimetype": "text/x-python",
   "name": "python",
   "nbconvert_exporter": "python",
   "pygments_lexer": "ipython3",
   "version": "3.5.1"
  }
 },
 "nbformat": 4,
 "nbformat_minor": 0
}

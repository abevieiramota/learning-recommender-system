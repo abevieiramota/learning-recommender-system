{
 "cells": [
  {
   "cell_type": "code",
   "execution_count": 1,
   "metadata": {
    "collapsed": true
   },
   "outputs": [],
   "source": [
    "import pandas as pd"
   ]
  },
  {
   "cell_type": "code",
   "execution_count": 58,
   "metadata": {
    "collapsed": false
   },
   "outputs": [],
   "source": [
    "vi = pd.read_excel('Assignment 6.xls', sheetname=0)\n",
    "ui = pd.read_excel('Assignment 6.xls', sheetname=1, index_col='User')"
   ]
  },
  {
   "cell_type": "code",
   "execution_count": 60,
   "metadata": {
    "collapsed": false
   },
   "outputs": [],
   "source": [
    "sui = vi.iloc[0]\n",
    "vi = vi.iloc[2:]"
   ]
  },
  {
   "cell_type": "code",
   "execution_count": 51,
   "metadata": {
    "collapsed": false
   },
   "outputs": [
    {
     "data": {
      "text/plain": [
       "4327  Charlie's Angels (2000)              0.281990\n",
       "414   Batman Forever (1995)                0.218089\n",
       "3049  Ace Ventura: Pet Detective (1994)    0.190879\n",
       "8467  Dumb & Dumber (1994)                 0.190638\n",
       "854   The Mask (1994)                      0.158601\n",
       "Name: 1, dtype: float64"
      ]
     },
     "execution_count": 51,
     "metadata": {},
     "output_type": "execute_result"
    }
   ],
   "source": [
    "vi[1].nlargest(5)"
   ]
  },
  {
   "cell_type": "code",
   "execution_count": 52,
   "metadata": {
    "collapsed": false
   },
   "outputs": [
    {
     "data": {
      "text/plain": [
       "14   American Beauty (1999)                          0.198715\n",
       "680  Pulp Fiction (1994)                             0.189565\n",
       "24   Kill Bill: Vol. 1 (2003)                        0.181570\n",
       "275  Fargo (1996)                                    0.161559\n",
       "38   Eternal Sunshine of the Spotless Mind (2004)    0.161058\n",
       "Name: 2, dtype: float64"
      ]
     },
     "execution_count": 52,
     "metadata": {},
     "output_type": "execute_result"
    }
   ],
   "source": [
    "vi[2].nlargest(5)"
   ]
  },
  {
   "cell_type": "code",
   "execution_count": 68,
   "metadata": {
    "collapsed": false
   },
   "outputs": [
    {
     "data": {
      "text/plain": [
       "278  The Shawshank Redemption (1994)    0.207680\n",
       "453  A Beautiful Mind (2001)            0.183286\n",
       "98   Gladiator (2000)                   0.173611\n",
       "238  The Godfather (1972)               0.172180\n",
       "13   Forrest Gump (1994)                0.170744\n",
       "Name: 4469, dtype: float64"
      ]
     },
     "execution_count": 68,
     "metadata": {},
     "output_type": "execute_result"
    }
   ],
   "source": [
    "ui.dot((vi * sui).T).loc[4469].nlargest(5)"
   ]
  }
 ],
 "metadata": {
  "anaconda-cloud": {},
  "kernelspec": {
   "display_name": "Python [Root]",
   "language": "python",
   "name": "Python [Root]"
  },
  "language_info": {
   "codemirror_mode": {
    "name": "ipython",
    "version": 3
   },
   "file_extension": ".py",
   "mimetype": "text/x-python",
   "name": "python",
   "nbconvert_exporter": "python",
   "pygments_lexer": "ipython3",
   "version": "3.5.2"
  }
 },
 "nbformat": 4,
 "nbformat_minor": 0
}

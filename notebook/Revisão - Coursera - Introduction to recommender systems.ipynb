{
 "cells": [
  {
   "cell_type": "code",
   "execution_count": 182,
   "metadata": {
    "collapsed": true
   },
   "outputs": [],
   "source": [
    "import pandas as pd\n",
    "import numpy as np\n",
    "from matplotlib import pyplot as plt\n",
    "from sklearn.preprocessing import normalize\n",
    "%matplotlib inline"
   ]
  },
  {
   "cell_type": "markdown",
   "metadata": {},
   "source": [
    "E se eu pensar nos itens consumidos como posições em um espaço, e que se dois itens foram consumidos próximos, quer dizer que no espaço do usuário, eles estão próximos -> inferir espaço vetorial de preferência do usuário a partir dos 'caminhos' por ele percorridos."
   ]
  },
  {
   "cell_type": "markdown",
   "metadata": {},
   "source": [
    "# Week 1"
   ]
  },
  {
   "cell_type": "markdown",
   "metadata": {},
   "source": [
    "## Dimensions of analysis\n",
    "\n",
    "$$f:UxR'xCxB \\rightarrow Rec \\subseteq I$$\n",
    "\n",
    "* Domain:\n",
    "  * news, movies, books, music, restaurant\n",
    "* Type:\n",
    "  * recommendation\n",
    "  * prediction\n",
    "  * ordering\n",
    "* Data:\n",
    "  * U **User** attributes\n",
    "     * idade\n",
    "     * sexo\n",
    "  * I **Item** attributes\n",
    "     * gênero\n",
    "     * duração\n",
    "  * R **User x Item** relationship attributes\n",
    "    * explicit x implicit\n",
    "    * whose opinion: ordinary users, experts, phoaks\n",
    "  * C **Context**\n",
    "    * usuário acompanhado\n",
    "    * está chovendo\n",
    "    * shopping\n",
    "    * listening to music\n",
    "  * B **Biases**\n",
    "    * not out of stock\n",
    "    * sem pornô para crianças\n",
    "    * priorizar produtos com alto estoque\n",
    "\n",
    "* Algorithm:\n",
    "  * non-personalized summary statistics\n",
    "  * demographic-based\n",
    "  * content-based\n",
    "  * collaborative filtering\n",
    "    * user-based\n",
    "    * item-based\n",
    "    * dimensionality reduction\n",
    "  * others\n",
    "    * critique\n",
    "    * hybrid\n",
    "* $$Rec \\cap I(u) == \\emptyset$$\n",
    "  * new items\n",
    "  * re-recommender\n",
    "* Objetivo:\n",
    "  * sales, rec. itself, education\n",
    "* Personalization level:\n",
    "  * nível de particionamento dos usuários\n",
    "    * ex: non-personalized -> todos usuários recebem mesma recomendação\n",
    "    * demographic -> usuários do mesmo grupo demográfico recebem mesma recomendação"
   ]
  },
  {
   "cell_type": "markdown",
   "metadata": {},
   "source": [
    "## Recommender dimensions\n",
    "\n",
    "* Accuracy\n",
    "* Usefulness\n",
    "* Computational performance\n",
    "* Correctness\n",
    "* Bias\n",
    "* Non-obviousness\n",
    "* Diversity\n",
    "* Confidence\n",
    "* Risk\n",
    "* Reward\n",
    "* Privacy"
   ]
  },
  {
   "cell_type": "markdown",
   "metadata": {},
   "source": [
    "# Week 2"
   ]
  },
  {
   "cell_type": "code",
   "execution_count": 84,
   "metadata": {
    "collapsed": false
   },
   "outputs": [],
   "source": [
    "rating_tudo_ruim = np.random.randint(0, 3, 1000)\n",
    "rating_normal = np.random.randint(0, 6, 1000)\n",
    "rating_tudo_bom = np.random.randint(3, 6, 1000)\n",
    "rating_all = np.r_[rating_normal, rating_tudo_ruim, rating_tudo_bom]"
   ]
  },
  {
   "cell_type": "code",
   "execution_count": 92,
   "metadata": {
    "collapsed": false
   },
   "outputs": [
    {
     "data": {
      "text/plain": [
       "<Container object of 6 artists>"
      ]
     },
     "execution_count": 92,
     "metadata": {},
     "output_type": "execute_result"
    },
    {
     "data": {
      "image/png": "[encoded data removed]",
      "text/plain": [
       "<matplotlib.figure.Figure at 0x7f6f6c43cdd8>"
      ]
     },
     "metadata": {},
     "output_type": "display_data"
    }
   ],
   "source": [
    "fig = plt.figure(figsize=(8, 4))\n",
    "ax1 = fig.add_subplot(121)\n",
    "ax2 = fig.add_subplot(122, sharey=ax1)\n",
    "\n",
    "\n",
    "normal = np.bincount(rating_normal)\n",
    "bom = np.bincount(rating_tudo_bom)\n",
    "ruim = np.bincount(rating_tudo_ruim)\n",
    "all_rating = np.bincount(rating_all)\n",
    "\n",
    "ax1.bar(range(len(ruim)), ruim, alpha=.4, width=.5)\n",
    "ax1.bar(range(len(bom)), bom, color='r', alpha=.4, width=.5)\n",
    "ax1.bar(range(len(normal)), normal, color='y', alpha=.4)\n",
    "ax2.bar(range(len(all_rating)), all_rating, color='g', alpha=.4)"
   ]
  },
  {
   "cell_type": "code",
   "execution_count": 116,
   "metadata": {
    "collapsed": false
   },
   "outputs": [
    {
     "data": {
      "text/plain": [
       "(array([  19.,  256.,  550.,  205.,  379.,  485.,  170.,  448.,  418.,   70.]),\n",
       " array([-7.48255667, -6.04326656, -4.60397646, -3.16468635, -1.72539625,\n",
       "        -0.28610614,  1.15318396,  2.59247406,  4.03176417,  5.47105427,\n",
       "         6.91034438]),\n",
       " <a list of 10 Patch objects>)"
      ]
     },
     "execution_count": 116,
     "metadata": {},
     "output_type": "execute_result"
    },
    {
     "data": {
      "image/png": "[encoded data removed]",
      "text/plain": [
       "<matplotlib.figure.Figure at 0x7f6f6b685710>"
      ]
     },
     "metadata": {},
     "output_type": "display_data"
    }
   ],
   "source": [
    "n1 = np.random.normal(.0, 1., 1000)\n",
    "n2 = np.random.normal(4., 1., 1000)\n",
    "n3 = np.random.normal(-4., 1., 1000)\n",
    "\n",
    "al = np.r_[n1, n2, n3]\n",
    "\n",
    "fig = plt.figure(figsize=(8, 4))\n",
    "ax1 = fig.add_subplot(121)\n",
    "ax2 = fig.add_subplot(122, sharey=ax1)\n",
    "\n",
    "ax1.hist(n1, alpha=.3)\n",
    "ax1.hist(n2, alpha=.3)\n",
    "ax1.hist(n3, alpha=.3)\n",
    "ax2.hist(al)"
   ]
  },
  {
   "cell_type": "code",
   "execution_count": 126,
   "metadata": {
    "collapsed": false
   },
   "outputs": [
    {
     "data": {
      "text/plain": [
       "(array([  2.00000000e+00,   3.00000000e+00,   1.20000000e+01,\n",
       "          1.20000000e+01,   2.60000000e+01,   6.70000000e+01,\n",
       "          8.90000000e+01,   1.00000000e+02,   1.92000000e+02,\n",
       "          2.02900000e+03,   1.75000000e+02,   1.05000000e+02,\n",
       "          7.00000000e+01,   4.80000000e+01,   2.90000000e+01,\n",
       "          2.30000000e+01,   1.10000000e+01,   2.00000000e+00,\n",
       "          3.00000000e+00,   2.00000000e+00]),\n",
       " array([-318.50710516, -285.00482998, -251.50255479, -218.0002796 ,\n",
       "        -184.49800442, -150.99572923, -117.49345404,  -83.99117885,\n",
       "         -50.48890367,  -16.98662848,   16.51564671,   50.01792189,\n",
       "          83.52019708,  117.02247227,  150.52474746,  184.02702264,\n",
       "         217.52929783,  251.03157302,  284.53384821,  318.03612339,\n",
       "         351.53839858]),\n",
       " <a list of 20 Patch objects>)"
      ]
     },
     "execution_count": 126,
     "metadata": {},
     "output_type": "execute_result"
    },
    {
     "data": {
      "image/png": "[encoded data removed]",
      "text/plain": [
       "<matplotlib.figure.Figure at 0x7f6f6a17fe10>"
      ]
     },
     "metadata": {},
     "output_type": "display_data"
    }
   ],
   "source": [
    "n1 = np.random.normal(.0, 1., 1000)\n",
    "n2 = np.random.normal(.0, 10., 1000)\n",
    "n3 = np.random.normal(.0, 100., 1000)\n",
    "\n",
    "al = np.r_[n1, n2, n3]\n",
    "\n",
    "fig = plt.figure(figsize=(8, 8))\n",
    "ax1 = fig.add_subplot(211)\n",
    "ax2 = fig.add_subplot(212)\n",
    "\n",
    "ax1.hist(n1, alpha=.3)\n",
    "ax1.hist(n2, alpha=.3, bins=20)\n",
    "ax1.hist(n3, alpha=.3, bins=30)\n",
    "ax2.hist(al, bins=20)"
   ]
  },
  {
   "cell_type": "markdown",
   "metadata": {},
   "source": [
    "### Efeito de um elemento na média"
   ]
  },
  {
   "cell_type": "code",
   "execution_count": 135,
   "metadata": {
    "collapsed": false
   },
   "outputs": [
    {
     "data": {
      "text/plain": [
       "(0.52467757864101627, 9.5678887078554702, 9.0432111292144537)"
      ]
     },
     "execution_count": 135,
     "metadata": {},
     "output_type": "execute_result"
    }
   ],
   "source": [
    "x = np.random.normal(0, 1, 10)\n",
    "\n",
    "mean = x.mean()\n",
    "mean_ = np.r_[x, [100]].mean()\n",
    "\n",
    "mean, mean_, mean_ - mean"
   ]
  },
  {
   "cell_type": "code",
   "execution_count": 136,
   "metadata": {
    "collapsed": false
   },
   "outputs": [
    {
     "data": {
      "text/plain": [
       "(-0.036081263945877538, 0.9543749861922004, 0.99045625013807792)"
      ]
     },
     "execution_count": 136,
     "metadata": {},
     "output_type": "execute_result"
    }
   ],
   "source": [
    "x = np.random.normal(0, 1, 100)\n",
    "\n",
    "mean = x.mean()\n",
    "mean_ = np.r_[x, [100]].mean()\n",
    "\n",
    "mean, mean_, mean_ - mean"
   ]
  },
  {
   "cell_type": "code",
   "execution_count": 137,
   "metadata": {
    "collapsed": false
   },
   "outputs": [
    {
     "data": {
      "text/plain": [
       "(-0.0047152973980944101, 0.095189513088816777, 0.099904810486911189)"
      ]
     },
     "execution_count": 137,
     "metadata": {},
     "output_type": "execute_result"
    }
   ],
   "source": [
    "x = np.random.normal(0, 1, 1000)\n",
    "\n",
    "mean = x.mean()\n",
    "mean_ = np.r_[x, [100]].mean()\n",
    "\n",
    "mean, mean_, mean_ - mean"
   ]
  },
  {
   "cell_type": "code",
   "execution_count": 138,
   "metadata": {
    "collapsed": false
   },
   "outputs": [
    {
     "data": {
      "text/plain": [
       "(-0.0022782206381735427, 0.0077210072611003464, 0.0099992278992738892)"
      ]
     },
     "execution_count": 138,
     "metadata": {},
     "output_type": "execute_result"
    }
   ],
   "source": [
    "x = np.random.normal(0, 1, 10000)\n",
    "\n",
    "mean = x.mean()\n",
    "mean_ = np.r_[x, [100]].mean()\n",
    "\n",
    "mean, mean_, mean_ - mean"
   ]
  },
  {
   "cell_type": "markdown",
   "metadata": {},
   "source": [
    "## Ratings\n",
    "\n",
    "* explict x implicit\n",
    "  * click x don't click\n",
    "    * absence of click -> don't like x don't seen\n",
    "  * purchased\n",
    "    * liked x don't liked\n",
    "* quando\n",
    "  * durante a experiência\n",
    "  * depois -> memória: há quanto tempo\n",
    "  * antes da experiência -> expectation\n",
    "* domínio\n",
    "  * range: [0, 10], [1, 5]\n",
    "  * review\n",
    "  * vote: [+1], [-1;+1] -> comum com ephemeral items\n",
    "* tempo de vida\n",
    "  * now() - created"
   ]
  },
  {
   "cell_type": "markdown",
   "metadata": {},
   "source": [
    "## Display\n",
    "\n",
    "* average\n",
    "* upvote proportion\n",
    "* net upvotes\n",
    "* % >= threshold\n",
    "* full distribution"
   ]
  },
  {
   "cell_type": "markdown",
   "metadata": {},
   "source": [
    "## Damped mean"
   ]
  },
  {
   "cell_type": "code",
   "execution_count": 144,
   "metadata": {
    "collapsed": false
   },
   "outputs": [
    {
     "data": {
      "text/plain": [
       "(2.0119354492073587, 2.9011935449207358, 4.926912350701607)"
      ]
     },
     "execution_count": 144,
     "metadata": {},
     "output_type": "execute_result"
    }
   ],
   "source": [
    "qtd_ratings = 100\n",
    "x = np.random.normal(2, 2, qtd_ratings)\n",
    "\n",
    "min_size = 1000\n",
    "\n",
    "mean = x.mean()\n",
    "damped_mean = (x.sum() + (min_size - x.shape[0]) * 3) / min_size\n",
    "mid_range = (x.max() - x.min()) / 2\n",
    "\n",
    "mean, damped_mean, mid_range"
   ]
  },
  {
   "cell_type": "markdown",
   "metadata": {},
   "source": [
    "# Week 3"
   ]
  },
  {
   "cell_type": "code",
   "execution_count": 161,
   "metadata": {
    "collapsed": true
   },
   "outputs": [],
   "source": [
    "from sklearn.metrics.pairwise import cosine_similarity"
   ]
  },
  {
   "cell_type": "code",
   "execution_count": 210,
   "metadata": {
    "collapsed": false
   },
   "outputs": [
    {
     "data": {
      "text/html": [
       "<div>\n",
       "<table border=\"1\" class=\"dataframe\">\n",
       "  <thead>\n",
       "    <tr style=\"text-align: right;\">\n",
       "      <th></th>\n",
       "      <th>comédia</th>\n",
       "      <th>drama</th>\n",
       "      <th>fantasia</th>\n",
       "      <th>romance</th>\n",
       "      <th>violência</th>\n",
       "    </tr>\n",
       "    <tr>\n",
       "      <th>nome</th>\n",
       "      <th></th>\n",
       "      <th></th>\n",
       "      <th></th>\n",
       "      <th></th>\n",
       "      <th></th>\n",
       "    </tr>\n",
       "  </thead>\n",
       "  <tbody>\n",
       "    <tr>\n",
       "      <th>titanic</th>\n",
       "      <td>1</td>\n",
       "      <td>10</td>\n",
       "      <td>2</td>\n",
       "      <td>10</td>\n",
       "      <td>2</td>\n",
       "    </tr>\n",
       "    <tr>\n",
       "      <th>colateral</th>\n",
       "      <td>1</td>\n",
       "      <td>5</td>\n",
       "      <td>1</td>\n",
       "      <td>3</td>\n",
       "      <td>10</td>\n",
       "    </tr>\n",
       "    <tr>\n",
       "      <th>labirinto do fauno</th>\n",
       "      <td>1</td>\n",
       "      <td>8</td>\n",
       "      <td>10</td>\n",
       "      <td>2</td>\n",
       "      <td>7</td>\n",
       "    </tr>\n",
       "    <tr>\n",
       "      <th>mágico de oz</th>\n",
       "      <td>2</td>\n",
       "      <td>6</td>\n",
       "      <td>10</td>\n",
       "      <td>1</td>\n",
       "      <td>1</td>\n",
       "    </tr>\n",
       "    <tr>\n",
       "      <th>el_piadão</th>\n",
       "      <td>10</td>\n",
       "      <td>2</td>\n",
       "      <td>3</td>\n",
       "      <td>3</td>\n",
       "      <td>1</td>\n",
       "    </tr>\n",
       "    <tr>\n",
       "      <th>humor negro</th>\n",
       "      <td>10</td>\n",
       "      <td>10</td>\n",
       "      <td>1</td>\n",
       "      <td>3</td>\n",
       "      <td>8</td>\n",
       "    </tr>\n",
       "  </tbody>\n",
       "</table>\n",
       "</div>"
      ],
      "text/plain": [
       "                    comédia  drama  fantasia  romance  violência\n",
       "nome                                                            \n",
       "titanic                   1     10         2       10          2\n",
       "colateral                 1      5         1        3         10\n",
       "labirinto do fauno        1      8        10        2          7\n",
       "mágico de oz              2      6        10        1          1\n",
       "el_piadão                10      2         3        3          1\n",
       "humor negro              10     10         1        3          8"
      ]
     },
     "execution_count": 210,
     "metadata": {},
     "output_type": "execute_result"
    }
   ],
   "source": [
    "movies = pd.DataFrame({'nome':['titanic', 'colateral', 'labirinto do fauno', 'mágico de oz', 'el_piadão', 'humor negro'],\n",
    "                       'drama':[10, 5, 8, 6, 2, 10],\n",
    "                       'romance':[10, 3, 2, 1, 3, 3],\n",
    "                       'violência':[2, 10, 7, 1, 1, 8],\n",
    "                       'fantasia':[2, 1, 10, 10, 3, 1],\n",
    "                       'comédia':[1, 1, 1, 2, 10, 10]})\n",
    "movies.set_index('nome', inplace=True)\n",
    "movies"
   ]
  },
  {
   "cell_type": "code",
   "execution_count": 211,
   "metadata": {
    "collapsed": false
   },
   "outputs": [
    {
     "data": {
      "text/html": [
       "<div>\n",
       "<table border=\"1\" class=\"dataframe\">\n",
       "  <thead>\n",
       "    <tr style=\"text-align: right;\">\n",
       "      <th></th>\n",
       "      <th>comédia</th>\n",
       "      <th>drama</th>\n",
       "      <th>fantasia</th>\n",
       "      <th>romance</th>\n",
       "      <th>violência</th>\n",
       "    </tr>\n",
       "    <tr>\n",
       "      <th>nome</th>\n",
       "      <th></th>\n",
       "      <th></th>\n",
       "      <th></th>\n",
       "      <th></th>\n",
       "      <th></th>\n",
       "    </tr>\n",
       "  </thead>\n",
       "  <tbody>\n",
       "    <tr>\n",
       "      <th>Abelardo</th>\n",
       "      <td>7</td>\n",
       "      <td>4</td>\n",
       "      <td>10</td>\n",
       "      <td>2</td>\n",
       "      <td>8</td>\n",
       "    </tr>\n",
       "    <tr>\n",
       "      <th>Dramis</th>\n",
       "      <td>8</td>\n",
       "      <td>8</td>\n",
       "      <td>3</td>\n",
       "      <td>5</td>\n",
       "      <td>3</td>\n",
       "    </tr>\n",
       "    <tr>\n",
       "      <th>Josino</th>\n",
       "      <td>9</td>\n",
       "      <td>1</td>\n",
       "      <td>8</td>\n",
       "      <td>1</td>\n",
       "      <td>6</td>\n",
       "    </tr>\n",
       "    <tr>\n",
       "      <th>Carlos</th>\n",
       "      <td>10</td>\n",
       "      <td>3</td>\n",
       "      <td>3</td>\n",
       "      <td>3</td>\n",
       "      <td>2</td>\n",
       "    </tr>\n",
       "    <tr>\n",
       "      <th>el_titanic</th>\n",
       "      <td>1</td>\n",
       "      <td>10</td>\n",
       "      <td>2</td>\n",
       "      <td>10</td>\n",
       "      <td>2</td>\n",
       "    </tr>\n",
       "  </tbody>\n",
       "</table>\n",
       "</div>"
      ],
      "text/plain": [
       "            comédia  drama  fantasia  romance  violência\n",
       "nome                                                    \n",
       "Abelardo          7      4        10        2          8\n",
       "Dramis            8      8         3        5          3\n",
       "Josino            9      1         8        1          6\n",
       "Carlos           10      3         3        3          2\n",
       "el_titanic        1     10         2       10          2"
      ]
     },
     "execution_count": 211,
     "metadata": {},
     "output_type": "execute_result"
    }
   ],
   "source": [
    "profile = pd.DataFrame({'nome':['Abelardo', 'Dramis', 'Josino', 'Carlos', 'el_titanic'],\n",
    "                        'drama':[4, 8, 1, 3, 10], \n",
    "                        'romance':[2, 5, 1, 3, 10], \n",
    "                        'violência':[8, 3, 6, 2, 2],\n",
    "                        'fantasia':[10, 3, 8, 3, 2],\n",
    "                        'comédia':[7, 8, 9, 10, 1]})\n",
    "profile.set_index('nome', inplace=True)\n",
    "profile"
   ]
  },
  {
   "cell_type": "markdown",
   "metadata": {},
   "source": [
    "sem normalização"
   ]
  },
  {
   "cell_type": "markdown",
   "metadata": {},
   "source": [
    "Dramis gosta de humor OU drama, e não dos dois\n",
    "\n",
    "cholocate e pimenta :)\n",
    "\n",
    "que tal clusterizar os filmes do usuário(profiles do usuário) e recomendar baseado neles?"
   ]
  },
  {
   "cell_type": "code",
   "execution_count": 212,
   "metadata": {
    "collapsed": false
   },
   "outputs": [
    {
     "data": {
      "text/html": [
       "<div>\n",
       "<table border=\"1\" class=\"dataframe\">\n",
       "  <thead>\n",
       "    <tr style=\"text-align: right;\">\n",
       "      <th>nome</th>\n",
       "      <th>titanic</th>\n",
       "      <th>colateral</th>\n",
       "      <th>labirinto do fauno</th>\n",
       "      <th>mágico de oz</th>\n",
       "      <th>el_piadão</th>\n",
       "      <th>humor negro</th>\n",
       "    </tr>\n",
       "    <tr>\n",
       "      <th>nome</th>\n",
       "      <th></th>\n",
       "      <th></th>\n",
       "      <th></th>\n",
       "      <th></th>\n",
       "      <th></th>\n",
       "      <th></th>\n",
       "    </tr>\n",
       "  </thead>\n",
       "  <tbody>\n",
       "    <tr>\n",
       "      <th>Abelardo</th>\n",
       "      <td>0.466752</td>\n",
       "      <td>0.690968</td>\n",
       "      <td>0.882972</td>\n",
       "      <td>0.813654</td>\n",
       "      <td>0.720658</td>\n",
       "      <td>0.751970</td>\n",
       "    </tr>\n",
       "    <tr>\n",
       "      <th>Dramis</th>\n",
       "      <td>0.793451</td>\n",
       "      <td>0.629512</td>\n",
       "      <td>0.688851</td>\n",
       "      <td>0.654573</td>\n",
       "      <td>0.848115</td>\n",
       "      <td>0.933207</td>\n",
       "    </tr>\n",
       "    <tr>\n",
       "      <th>Josino</th>\n",
       "      <td>0.291458</td>\n",
       "      <td>0.538795</td>\n",
       "      <td>0.705936</td>\n",
       "      <td>0.688578</td>\n",
       "      <td>0.833167</td>\n",
       "      <td>0.710062</td>\n",
       "    </tr>\n",
       "    <tr>\n",
       "      <th>Carlos</th>\n",
       "      <td>0.483483</td>\n",
       "      <td>0.427041</td>\n",
       "      <td>0.497068</td>\n",
       "      <td>0.535233</td>\n",
       "      <td>0.992618</td>\n",
       "      <td>0.833962</td>\n",
       "    </tr>\n",
       "    <tr>\n",
       "      <th>el_titanic</th>\n",
       "      <td>1.000000</td>\n",
       "      <td>0.610934</td>\n",
       "      <td>0.632459</td>\n",
       "      <td>0.545645</td>\n",
       "      <td>0.424115</td>\n",
       "      <td>0.660250</td>\n",
       "    </tr>\n",
       "  </tbody>\n",
       "</table>\n",
       "</div>"
      ],
      "text/plain": [
       "nome         titanic  colateral  labirinto do fauno  mágico de oz  el_piadão  \\\n",
       "nome                                                                           \n",
       "Abelardo    0.466752   0.690968            0.882972      0.813654   0.720658   \n",
       "Dramis      0.793451   0.629512            0.688851      0.654573   0.848115   \n",
       "Josino      0.291458   0.538795            0.705936      0.688578   0.833167   \n",
       "Carlos      0.483483   0.427041            0.497068      0.535233   0.992618   \n",
       "el_titanic  1.000000   0.610934            0.632459      0.545645   0.424115   \n",
       "\n",
       "nome        humor negro  \n",
       "nome                     \n",
       "Abelardo       0.751970  \n",
       "Dramis         0.933207  \n",
       "Josino         0.710062  \n",
       "Carlos         0.833962  \n",
       "el_titanic     0.660250  "
      ]
     },
     "execution_count": 212,
     "metadata": {},
     "output_type": "execute_result"
    }
   ],
   "source": [
    "pd.DataFrame(cosine_similarity(movies, profile), index=movies.index, columns=profile.index).T"
   ]
  },
  {
   "cell_type": "markdown",
   "metadata": {},
   "source": [
    "normalizando usuário\n",
    "\n",
    "notar como antes de normalizar, comédia tem um peso grande para Carlos! mas todo mundo gosta de comédia!!!"
   ]
  },
  {
   "cell_type": "code",
   "execution_count": 213,
   "metadata": {
    "collapsed": false
   },
   "outputs": [
    {
     "data": {
      "text/plain": [
       "array([[ 0.40755576,  0.2901905 ,  0.73323558,  0.16963779,  0.73960026],\n",
       "       [ 0.46577801,  0.580381  ,  0.21997067,  0.42409446,  0.2773501 ],\n",
       "       [ 0.52400026,  0.07254763,  0.58658846,  0.08481889,  0.5547002 ],\n",
       "       [ 0.58222251,  0.21764288,  0.21997067,  0.25445668,  0.18490007],\n",
       "       [ 0.05822225,  0.72547625,  0.14664712,  0.84818893,  0.18490007]])"
      ]
     },
     "execution_count": 213,
     "metadata": {},
     "output_type": "execute_result"
    }
   ],
   "source": [
    "norm_profile = normalize(profile, axis=0)\n",
    "norm_profile"
   ]
  },
  {
   "cell_type": "code",
   "execution_count": 214,
   "metadata": {
    "collapsed": false
   },
   "outputs": [
    {
     "data": {
      "text/html": [
       "<div>\n",
       "<table border=\"1\" class=\"dataframe\">\n",
       "  <thead>\n",
       "    <tr style=\"text-align: right;\">\n",
       "      <th>nome</th>\n",
       "      <th>titanic</th>\n",
       "      <th>colateral</th>\n",
       "      <th>labirinto do fauno</th>\n",
       "      <th>mágico de oz</th>\n",
       "      <th>el_piadão</th>\n",
       "      <th>humor negro</th>\n",
       "    </tr>\n",
       "    <tr>\n",
       "      <th>nome</th>\n",
       "      <th></th>\n",
       "      <th></th>\n",
       "      <th></th>\n",
       "      <th></th>\n",
       "      <th></th>\n",
       "      <th></th>\n",
       "    </tr>\n",
       "  </thead>\n",
       "  <tbody>\n",
       "    <tr>\n",
       "      <th>Abelardo</th>\n",
       "      <td>0.470990</td>\n",
       "      <td>0.770756</td>\n",
       "      <td>0.903476</td>\n",
       "      <td>0.775941</td>\n",
       "      <td>0.625736</td>\n",
       "      <td>0.731306</td>\n",
       "    </tr>\n",
       "    <tr>\n",
       "      <th>Dramis</th>\n",
       "      <td>0.858686</td>\n",
       "      <td>0.706260</td>\n",
       "      <td>0.737953</td>\n",
       "      <td>0.662344</td>\n",
       "      <td>0.781041</td>\n",
       "      <td>0.923825</td>\n",
       "    </tr>\n",
       "    <tr>\n",
       "      <th>Josino</th>\n",
       "      <td>0.312706</td>\n",
       "      <td>0.643815</td>\n",
       "      <td>0.770503</td>\n",
       "      <td>0.691898</td>\n",
       "      <td>0.740193</td>\n",
       "      <td>0.701070</td>\n",
       "    </tr>\n",
       "    <tr>\n",
       "      <th>Carlos</th>\n",
       "      <td>0.578815</td>\n",
       "      <td>0.528534</td>\n",
       "      <td>0.586519</td>\n",
       "      <td>0.586928</td>\n",
       "      <td>0.970836</td>\n",
       "      <td>0.865103</td>\n",
       "    </tr>\n",
       "    <tr>\n",
       "      <th>el_titanic</th>\n",
       "      <td>0.996614</td>\n",
       "      <td>0.617495</td>\n",
       "      <td>0.611845</td>\n",
       "      <td>0.511967</td>\n",
       "      <td>0.410668</td>\n",
       "      <td>0.635035</td>\n",
       "    </tr>\n",
       "  </tbody>\n",
       "</table>\n",
       "</div>"
      ],
      "text/plain": [
       "nome         titanic  colateral  labirinto do fauno  mágico de oz  el_piadão  \\\n",
       "nome                                                                           \n",
       "Abelardo    0.470990   0.770756            0.903476      0.775941   0.625736   \n",
       "Dramis      0.858686   0.706260            0.737953      0.662344   0.781041   \n",
       "Josino      0.312706   0.643815            0.770503      0.691898   0.740193   \n",
       "Carlos      0.578815   0.528534            0.586519      0.586928   0.970836   \n",
       "el_titanic  0.996614   0.617495            0.611845      0.511967   0.410668   \n",
       "\n",
       "nome        humor negro  \n",
       "nome                     \n",
       "Abelardo       0.731306  \n",
       "Dramis         0.923825  \n",
       "Josino         0.701070  \n",
       "Carlos         0.865103  \n",
       "el_titanic     0.635035  "
      ]
     },
     "execution_count": 214,
     "metadata": {},
     "output_type": "execute_result"
    }
   ],
   "source": [
    "pd.DataFrame(cosine_similarity(movies, norm_profile), index=movies.index, columns=profile.index).T"
   ]
  },
  {
   "cell_type": "code",
   "execution_count": 244,
   "metadata": {
    "collapsed": true
   },
   "outputs": [],
   "source": [
    "def qual_meu_filme(profile, qtd=3):\n",
    "    \n",
    "    return pd.Series(cosine_similarity(movies, profile.reshape(1, -1)).ravel(), index=movies.index).nlargest(qtd)\n",
    "\n",
    "norm_movies = normalize(movies, axis=1)\n",
    "def qual_meu_filme_normed(profile, qtd=3):\n",
    "    \n",
    "    return pd.Series(cosine_similarity(norm_movies, profile.reshape(1, -1)).ravel(), index=movies.index).nlargest(qtd)"
   ]
  },
  {
   "cell_type": "code",
   "execution_count": 249,
   "metadata": {
    "collapsed": false
   },
   "outputs": [
    {
     "data": {
      "text/plain": [
       "nome\n",
       "humor negro    0.896446\n",
       "el_piadão      0.806718\n",
       "colateral      0.785905\n",
       "dtype: float64"
      ]
     },
     "execution_count": 249,
     "metadata": {},
     "output_type": "execute_result"
    }
   ],
   "source": [
    "qual_meu_filme(pd.Series({'comédia':3, 'drama':1, 'romance':1, 'violência':3, 'fantasia':1}))"
   ]
  },
  {
   "cell_type": "code",
   "execution_count": 250,
   "metadata": {
    "collapsed": false
   },
   "outputs": [
    {
     "data": {
      "text/plain": [
       "nome\n",
       "humor negro    0.896446\n",
       "el_piadão      0.806718\n",
       "colateral      0.785905\n",
       "dtype: float64"
      ]
     },
     "execution_count": 250,
     "metadata": {},
     "output_type": "execute_result"
    }
   ],
   "source": [
    "qual_meu_filme_normed(pd.Series({'comédia':3, 'drama':1, 'romance':1, 'violência':3, 'fantasia':1}))"
   ]
  },
  {
   "cell_type": "code",
   "execution_count": null,
   "metadata": {
    "collapsed": true
   },
   "outputs": [],
   "source": []
  }
 ],
 "metadata": {
  "anaconda-cloud": {},
  "kernelspec": {
   "display_name": "Python [conda root]",
   "language": "python",
   "name": "conda-root-py"
  },
  "language_info": {
   "codemirror_mode": {
    "name": "ipython",
    "version": 3
   },
   "file_extension": ".py",
   "mimetype": "text/x-python",
   "name": "python",
   "nbconvert_exporter": "python",
   "pygments_lexer": "ipython3",
   "version": "3.5.2"
  }
 },
 "nbformat": 4,
 "nbformat_minor": 1
}
